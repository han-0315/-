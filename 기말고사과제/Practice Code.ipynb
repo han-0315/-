{
 "cells": [
  {
   "cell_type": "markdown",
   "metadata": {},
   "source": [
    "# AI Machine Learning Practice "
   ]
  },
  {
   "attachments": {},
   "cell_type": "markdown",
   "metadata": {},
   "source": [
    "# Informations\n",
    "\n",
    "- 20186795 Handongmin\n",
    "- 개요를 보시면 순서 및 알고리즘의 적용요소를 파악할 수 있습니다.\n",
    "- 하이퍼파라미터, 여러 개의 모델링 분석은 큰 시간이 소요되니 주석처리하였습니다. "
   ]
  },
  {
   "cell_type": "markdown",
   "metadata": {},
   "source": [
    "## [Step 0] Importing Packages\n",
    "\n",
    "You must specify all the packages you use in this practice in the cell below.\n",
    "\n"
   ]
  },
  {
   "cell_type": "code",
   "execution_count": 324,
   "metadata": {
    "ExecuteTime": {
     "end_time": "2021-09-24T17:39:25.142951Z",
     "start_time": "2021-09-24T17:39:18.604715Z"
    }
   },
   "outputs": [],
   "source": [
    "from __future__ import print_function\n",
    "import os\n",
    "data_path = ['data']\n",
    "\n",
    "from sklearn.preprocessing import MinMaxScaler\n",
    "from sklearn.neighbors import KNeighborsClassifier\n",
    "from sklearn.metrics import confusion_matrix\n",
    "import numpy as np"
   ]
  },
  {
   "cell_type": "markdown",
   "metadata": {},
   "source": [
    "## [Step 1] Read Data\n",
    "\n",
    "Train dataset is in the 'data' directory\n"
   ]
  },
  {
   "cell_type": "code",
   "execution_count": 325,
   "metadata": {
    "ExecuteTime": {
     "end_time": "2021-09-24T17:39:25.235951Z",
     "start_time": "2021-09-24T17:39:25.146960Z"
    }
   },
   "outputs": [],
   "source": [
    "import pandas as pd\n",
    "import seaborn as sns\n",
    "from scipy.stats import skew\n",
    "from sklearn.model_selection import train_test_split\n",
    "from sklearn.metrics import mean_squared_error\n",
    "import matplotlib\n",
    "\n",
    "import matplotlib.pyplot as plt\n",
    "# Import the data using the file path\n",
    "filepath1 = os.sep.join(data_path + ['music_train_data.csv'])\n",
    "data = pd.read_csv(filepath1)\n",
    "filepath2 = os.sep.join(data_path + ['music_test_data.csv'])\n",
    "test_data = pd.read_csv(filepath2)"
   ]
  },
  {
   "cell_type": "code",
   "execution_count": 326,
   "metadata": {
    "ExecuteTime": {
     "end_time": "2021-09-24T17:39:27.802971Z",
     "start_time": "2021-09-24T17:39:25.239953Z"
    }
   },
   "outputs": [
    {
     "data": {
      "text/html": [
       "<div>\n",
       "<style scoped>\n",
       "    .dataframe tbody tr th:only-of-type {\n",
       "        vertical-align: middle;\n",
       "    }\n",
       "\n",
       "    .dataframe tbody tr th {\n",
       "        vertical-align: top;\n",
       "    }\n",
       "\n",
       "    .dataframe thead th {\n",
       "        text-align: right;\n",
       "    }\n",
       "</style>\n",
       "<table border=\"1\" class=\"dataframe\">\n",
       "  <thead>\n",
       "    <tr style=\"text-align: right;\">\n",
       "      <th></th>\n",
       "      <th>f1</th>\n",
       "      <th>f2</th>\n",
       "      <th>f3</th>\n",
       "      <th>f4</th>\n",
       "      <th>f5</th>\n",
       "      <th>f6</th>\n",
       "      <th>f7</th>\n",
       "      <th>f8</th>\n",
       "      <th>f9</th>\n",
       "      <th>f10</th>\n",
       "      <th>...</th>\n",
       "      <th>f340</th>\n",
       "      <th>f341</th>\n",
       "      <th>f342</th>\n",
       "      <th>f343</th>\n",
       "      <th>f344</th>\n",
       "      <th>f345</th>\n",
       "      <th>f346</th>\n",
       "      <th>f347</th>\n",
       "      <th>f348</th>\n",
       "      <th>answer</th>\n",
       "    </tr>\n",
       "  </thead>\n",
       "  <tbody>\n",
       "    <tr>\n",
       "      <th>0</th>\n",
       "      <td>-0.166614</td>\n",
       "      <td>0.284691</td>\n",
       "      <td>-0.011022</td>\n",
       "      <td>-1.028812</td>\n",
       "      <td>0.101653</td>\n",
       "      <td>0.498247</td>\n",
       "      <td>-0.314566</td>\n",
       "      <td>1.208697</td>\n",
       "      <td>-1.503008</td>\n",
       "      <td>-1.457764</td>\n",
       "      <td>...</td>\n",
       "      <td>2.136721</td>\n",
       "      <td>-1.193955</td>\n",
       "      <td>0.040614</td>\n",
       "      <td>1.127366</td>\n",
       "      <td>0.741521</td>\n",
       "      <td>-0.707730</td>\n",
       "      <td>0.077748</td>\n",
       "      <td>0.832992</td>\n",
       "      <td>-1.291423</td>\n",
       "      <td>2</td>\n",
       "    </tr>\n",
       "    <tr>\n",
       "      <th>1</th>\n",
       "      <td>-0.583950</td>\n",
       "      <td>0.651829</td>\n",
       "      <td>-1.754836</td>\n",
       "      <td>-0.512545</td>\n",
       "      <td>-1.063596</td>\n",
       "      <td>1.434039</td>\n",
       "      <td>-1.404162</td>\n",
       "      <td>-0.745222</td>\n",
       "      <td>0.054440</td>\n",
       "      <td>0.153028</td>\n",
       "      <td>...</td>\n",
       "      <td>-0.803444</td>\n",
       "      <td>-0.327357</td>\n",
       "      <td>1.022505</td>\n",
       "      <td>-1.083422</td>\n",
       "      <td>-0.714399</td>\n",
       "      <td>-1.407135</td>\n",
       "      <td>0.846917</td>\n",
       "      <td>-1.562645</td>\n",
       "      <td>0.365577</td>\n",
       "      <td>1</td>\n",
       "    </tr>\n",
       "    <tr>\n",
       "      <th>2</th>\n",
       "      <td>-0.214595</td>\n",
       "      <td>0.353967</td>\n",
       "      <td>0.749125</td>\n",
       "      <td>-0.123296</td>\n",
       "      <td>-0.809340</td>\n",
       "      <td>0.042847</td>\n",
       "      <td>-0.688971</td>\n",
       "      <td>-0.741502</td>\n",
       "      <td>0.059323</td>\n",
       "      <td>0.995969</td>\n",
       "      <td>...</td>\n",
       "      <td>0.423848</td>\n",
       "      <td>-0.200293</td>\n",
       "      <td>-0.265410</td>\n",
       "      <td>-1.182842</td>\n",
       "      <td>-0.416810</td>\n",
       "      <td>0.234092</td>\n",
       "      <td>-1.061020</td>\n",
       "      <td>-1.595486</td>\n",
       "      <td>-0.867771</td>\n",
       "      <td>1</td>\n",
       "    </tr>\n",
       "    <tr>\n",
       "      <th>3</th>\n",
       "      <td>-0.044177</td>\n",
       "      <td>0.151251</td>\n",
       "      <td>1.017266</td>\n",
       "      <td>-0.809429</td>\n",
       "      <td>-0.558230</td>\n",
       "      <td>-0.649047</td>\n",
       "      <td>-0.790528</td>\n",
       "      <td>-0.798548</td>\n",
       "      <td>1.471307</td>\n",
       "      <td>0.045307</td>\n",
       "      <td>...</td>\n",
       "      <td>0.601954</td>\n",
       "      <td>-0.092321</td>\n",
       "      <td>-1.319499</td>\n",
       "      <td>-0.673082</td>\n",
       "      <td>-0.816716</td>\n",
       "      <td>-4.172430</td>\n",
       "      <td>1.093709</td>\n",
       "      <td>1.106629</td>\n",
       "      <td>0.476974</td>\n",
       "      <td>1</td>\n",
       "    </tr>\n",
       "    <tr>\n",
       "      <th>4</th>\n",
       "      <td>0.779536</td>\n",
       "      <td>-0.761447</td>\n",
       "      <td>0.138536</td>\n",
       "      <td>2.406821</td>\n",
       "      <td>0.735203</td>\n",
       "      <td>-0.058044</td>\n",
       "      <td>0.358249</td>\n",
       "      <td>1.027844</td>\n",
       "      <td>-0.043828</td>\n",
       "      <td>-1.221248</td>\n",
       "      <td>...</td>\n",
       "      <td>-0.673082</td>\n",
       "      <td>-0.100535</td>\n",
       "      <td>-0.623208</td>\n",
       "      <td>1.571379</td>\n",
       "      <td>0.270780</td>\n",
       "      <td>-0.792427</td>\n",
       "      <td>-0.402796</td>\n",
       "      <td>1.349432</td>\n",
       "      <td>0.174976</td>\n",
       "      <td>2</td>\n",
       "    </tr>\n",
       "  </tbody>\n",
       "</table>\n",
       "<p>5 rows × 349 columns</p>\n",
       "</div>"
      ],
      "text/plain": [
       "         f1        f2        f3        f4        f5        f6        f7  \\\n",
       "0 -0.166614  0.284691 -0.011022 -1.028812  0.101653  0.498247 -0.314566   \n",
       "1 -0.583950  0.651829 -1.754836 -0.512545 -1.063596  1.434039 -1.404162   \n",
       "2 -0.214595  0.353967  0.749125 -0.123296 -0.809340  0.042847 -0.688971   \n",
       "3 -0.044177  0.151251  1.017266 -0.809429 -0.558230 -0.649047 -0.790528   \n",
       "4  0.779536 -0.761447  0.138536  2.406821  0.735203 -0.058044  0.358249   \n",
       "\n",
       "         f8        f9       f10  ...      f340      f341      f342      f343  \\\n",
       "0  1.208697 -1.503008 -1.457764  ...  2.136721 -1.193955  0.040614  1.127366   \n",
       "1 -0.745222  0.054440  0.153028  ... -0.803444 -0.327357  1.022505 -1.083422   \n",
       "2 -0.741502  0.059323  0.995969  ...  0.423848 -0.200293 -0.265410 -1.182842   \n",
       "3 -0.798548  1.471307  0.045307  ...  0.601954 -0.092321 -1.319499 -0.673082   \n",
       "4  1.027844 -0.043828 -1.221248  ... -0.673082 -0.100535 -0.623208  1.571379   \n",
       "\n",
       "       f344      f345      f346      f347      f348  answer  \n",
       "0  0.741521 -0.707730  0.077748  0.832992 -1.291423       2  \n",
       "1 -0.714399 -1.407135  0.846917 -1.562645  0.365577       1  \n",
       "2 -0.416810  0.234092 -1.061020 -1.595486 -0.867771       1  \n",
       "3 -0.816716 -4.172430  1.093709  1.106629  0.476974       1  \n",
       "4  0.270780 -0.792427 -0.402796  1.349432  0.174976       2  \n",
       "\n",
       "[5 rows x 349 columns]"
      ]
     },
     "execution_count": 326,
     "metadata": {},
     "output_type": "execute_result"
    }
   ],
   "source": [
    "data.head(5)"
   ]
  },
  {
   "cell_type": "code",
   "execution_count": 327,
   "metadata": {
    "ExecuteTime": {
     "end_time": "2021-09-24T17:39:27.834972Z",
     "start_time": "2021-09-24T17:39:27.822969Z"
    }
   },
   "outputs": [
    {
     "name": "stdout",
     "output_type": "stream",
     "text": [
      "(650, 349)\n",
      "f1        float64\n",
      "f2        float64\n",
      "f3        float64\n",
      "f4        float64\n",
      "f5        float64\n",
      "           ...   \n",
      "f345      float64\n",
      "f346      float64\n",
      "f347      float64\n",
      "f348      float64\n",
      "answer      int64\n",
      "Length: 349, dtype: object\n"
     ]
    }
   ],
   "source": [
    "print(data.shape)\n",
    "print(data.dtypes)"
   ]
  },
  {
   "cell_type": "code",
   "execution_count": 328,
   "metadata": {},
   "outputs": [
    {
     "data": {
      "text/plain": [
       "0"
      ]
     },
     "execution_count": 328,
     "metadata": {},
     "output_type": "execute_result"
    }
   ],
   "source": [
    "#모든 결측치의 합을 더함. 결측치가 없는 것을 확인할 수 있음.\n",
    "pd.isnull(data).sum().sum()"
   ]
  },
  {
   "cell_type": "code",
   "execution_count": 329,
   "metadata": {},
   "outputs": [
    {
     "data": {
      "text/plain": [
       "count    650.000000\n",
       "mean       1.596923\n",
       "std        0.684850\n",
       "min        1.000000\n",
       "25%        1.000000\n",
       "50%        1.000000\n",
       "75%        2.000000\n",
       "max        3.000000\n",
       "Name: answer, dtype: float64"
      ]
     },
     "execution_count": 329,
     "metadata": {},
     "output_type": "execute_result"
    }
   ],
   "source": [
    "data['answer'].describe()"
   ]
  },
  {
   "attachments": {},
   "cell_type": "markdown",
   "metadata": {},
   "source": [
    "## [Step 2] Data Preprocessing\n",
    "\n",
    "- 먼저 label 부터 분석했습니다. 그 후 상관계수, 편향도, 정규화, 결측치 처리, feature selection으로 진행됩니다.\n",
    "- 각각에 단계마다 마크다운을 통해 설명하였습니다.\n",
    "- transform function과 같은 경우, 모델링이후 최종모델을 선정할 때 정의했습니다.!"
   ]
  },
  {
   "attachments": {},
   "cell_type": "markdown",
   "metadata": {},
   "source": [
    "아래의 그림을 통해 3번 class 의 개수가 적은 것을 확인."
   ]
  },
  {
   "cell_type": "code",
   "execution_count": 330,
   "metadata": {},
   "outputs": [
    {
     "name": "stderr",
     "output_type": "stream",
     "text": [
      "/Users/handongmin/opt/anaconda3/lib/python3.9/site-packages/seaborn/_decorators.py:36: FutureWarning: Pass the following variable as a keyword arg: x. From version 0.12, the only valid positional argument will be `data`, and passing other arguments without an explicit keyword will result in an error or misinterpretation.\n",
      "  warnings.warn(\n"
     ]
    },
    {
     "data": {
      "text/plain": [
       "<AxesSubplot:xlabel='answer', ylabel='count'>"
      ]
     },
     "execution_count": 330,
     "metadata": {},
     "output_type": "execute_result"
    },
    {
     "data": {
      "image/png": "[encoded data removed]",
      "text/plain": [
       "<Figure size 1500x800 with 1 Axes>"
      ]
     },
     "metadata": {},
     "output_type": "display_data"
    }
   ],
   "source": [
    "f, ax = plt.subplots(figsize=(15,8))\n",
    "sns.countplot(data['answer'])"
   ]
  },
  {
   "cell_type": "markdown",
   "metadata": {},
   "source": [
    "#### 상관계수 분석"
   ]
  },
  {
   "cell_type": "code",
   "execution_count": 331,
   "metadata": {},
   "outputs": [
    {
     "data": {
      "text/plain": [
       "answer  answer    1.000000\n",
       "f55     answer    0.528829\n",
       "f25     answer    0.499611\n",
       "f29     answer    0.483143\n",
       "f53     answer    0.479233\n",
       "f63     answer    0.470994\n",
       "f35     answer    0.465304\n",
       "f77     answer    0.459385\n",
       "f49     answer    0.456644\n",
       "f21     answer    0.446106\n",
       "f309    answer    0.432933\n",
       "f40     answer    0.422038\n",
       "f39     answer    0.421808\n",
       "f320    answer    0.419074\n",
       "f59     answer    0.417458\n",
       "f316    answer    0.414389\n",
       "f45     answer    0.412193\n",
       "f36     answer    0.401344\n",
       "f347    answer    0.384805\n",
       "f31     answer    0.378770\n",
       "f153    answer    0.361140\n",
       "f313    answer    0.332036\n",
       "f343    answer    0.331786\n",
       "f69     answer    0.281474\n",
       "f310    answer    0.280139\n",
       "f330    answer    0.254111\n",
       "f323    answer    0.253777\n",
       "f10     answer    0.250951\n",
       "f286    answer    0.248008\n",
       "f287    answer    0.245661\n",
       "f80     answer    0.242606\n",
       "dtype: float64"
      ]
     },
     "execution_count": 331,
     "metadata": {},
     "output_type": "execute_result"
    }
   ],
   "source": [
    "#내림차순으로 상관계수를 정렬한 후, 상위 10개의 Feature 확인\n",
    "answer_corr = data.corr().abs()[-1:].unstack()\n",
    "answer_corr.sort_values(kind=\"quicksort\", ascending=False)[:31]"
   ]
  },
  {
   "cell_type": "code",
   "execution_count": 332,
   "metadata": {},
   "outputs": [],
   "source": [
    "data_corr = data.corr().abs().unstack().sort_values(kind=\"quicksort\", ascending=False).reset_index()\n",
    "data_corr.rename(columns={\"level_0\": \"Feature 1\", \"level_1\": \"Feature 2\", 0: 'Correlation Coefficient'}, inplace=True)\n",
    "data_corr.drop(data_corr.iloc[1::2].index, inplace=True)\n",
    "df_train_corr_nd = data_corr.drop(data_corr[data_corr['Correlation Coefficient'] == 1.0].index)"
   ]
  },
  {
   "attachments": {},
   "cell_type": "markdown",
   "metadata": {},
   "source": [
    "아래의 코드를 통해, feature 간에 상관계수는 몇몇개는 상당히 높다는 것을 확인할 수 있다. 상관계수가 1의 가까운 데이터는 중복으로 들어갈 필요가 없음."
   ]
  },
  {
   "cell_type": "code",
   "execution_count": 333,
   "metadata": {},
   "outputs": [
    {
     "data": {
      "text/html": [
       "<div>\n",
       "<style scoped>\n",
       "    .dataframe tbody tr th:only-of-type {\n",
       "        vertical-align: middle;\n",
       "    }\n",
       "\n",
       "    .dataframe tbody tr th {\n",
       "        vertical-align: top;\n",
       "    }\n",
       "\n",
       "    .dataframe thead th {\n",
       "        text-align: right;\n",
       "    }\n",
       "</style>\n",
       "<table border=\"1\" class=\"dataframe\">\n",
       "  <thead>\n",
       "    <tr style=\"text-align: right;\">\n",
       "      <th></th>\n",
       "      <th>Feature 1</th>\n",
       "      <th>Feature 2</th>\n",
       "      <th>Correlation Coefficient</th>\n",
       "    </tr>\n",
       "  </thead>\n",
       "  <tbody>\n",
       "    <tr>\n",
       "      <th>348</th>\n",
       "      <td>f65</td>\n",
       "      <td>f66</td>\n",
       "      <td>0.999182</td>\n",
       "    </tr>\n",
       "    <tr>\n",
       "      <th>350</th>\n",
       "      <td>f245</td>\n",
       "      <td>f167</td>\n",
       "      <td>0.992357</td>\n",
       "    </tr>\n",
       "    <tr>\n",
       "      <th>352</th>\n",
       "      <td>f247</td>\n",
       "      <td>f169</td>\n",
       "      <td>0.991502</td>\n",
       "    </tr>\n",
       "    <tr>\n",
       "      <th>354</th>\n",
       "      <td>f246</td>\n",
       "      <td>f168</td>\n",
       "      <td>0.991359</td>\n",
       "    </tr>\n",
       "    <tr>\n",
       "      <th>356</th>\n",
       "      <td>f166</td>\n",
       "      <td>f244</td>\n",
       "      <td>0.991123</td>\n",
       "    </tr>\n",
       "    <tr>\n",
       "      <th>...</th>\n",
       "      <td>...</td>\n",
       "      <td>...</td>\n",
       "      <td>...</td>\n",
       "    </tr>\n",
       "    <tr>\n",
       "      <th>3314</th>\n",
       "      <td>f169</td>\n",
       "      <td>f49</td>\n",
       "      <td>0.500367</td>\n",
       "    </tr>\n",
       "    <tr>\n",
       "      <th>3316</th>\n",
       "      <td>f333</td>\n",
       "      <td>f173</td>\n",
       "      <td>0.500343</td>\n",
       "    </tr>\n",
       "    <tr>\n",
       "      <th>3318</th>\n",
       "      <td>f284</td>\n",
       "      <td>f25</td>\n",
       "      <td>0.500327</td>\n",
       "    </tr>\n",
       "    <tr>\n",
       "      <th>3320</th>\n",
       "      <td>f8</td>\n",
       "      <td>f217</td>\n",
       "      <td>0.500247</td>\n",
       "    </tr>\n",
       "    <tr>\n",
       "      <th>3322</th>\n",
       "      <td>f35</td>\n",
       "      <td>f251</td>\n",
       "      <td>0.500137</td>\n",
       "    </tr>\n",
       "  </tbody>\n",
       "</table>\n",
       "<p>1488 rows × 3 columns</p>\n",
       "</div>"
      ],
      "text/plain": [
       "     Feature 1 Feature 2  Correlation Coefficient\n",
       "348        f65       f66                 0.999182\n",
       "350       f245      f167                 0.992357\n",
       "352       f247      f169                 0.991502\n",
       "354       f246      f168                 0.991359\n",
       "356       f166      f244                 0.991123\n",
       "...        ...       ...                      ...\n",
       "3314      f169       f49                 0.500367\n",
       "3316      f333      f173                 0.500343\n",
       "3318      f284       f25                 0.500327\n",
       "3320        f8      f217                 0.500247\n",
       "3322       f35      f251                 0.500137\n",
       "\n",
       "[1488 rows x 3 columns]"
      ]
     },
     "execution_count": 333,
     "metadata": {},
     "output_type": "execute_result"
    }
   ],
   "source": [
    "corr = df_train_corr_nd['Correlation Coefficient'] > 0.5\n",
    "#print(df_train_corr_nd.count)\n",
    "df_train_corr_nd[corr]"
   ]
  },
  {
   "cell_type": "markdown",
   "metadata": {},
   "source": [
    "#### 편향도 확인 및 처리"
   ]
  },
  {
   "cell_type": "markdown",
   "metadata": {},
   "source": [
    "상위10개의 편향도 확인 -> 상당히 높은 것을 확인할 수 있음. "
   ]
  },
  {
   "cell_type": "code",
   "execution_count": 334,
   "metadata": {},
   "outputs": [
    {
     "name": "stdout",
     "output_type": "stream",
     "text": [
      "f65     25.295412\n",
      "f66     25.096269\n",
      "f13      9.453152\n",
      "f116     5.048910\n",
      "f14      5.025909\n",
      "f28      4.898928\n",
      "f203     4.161365\n",
      "f202     4.017091\n",
      "f195     3.938446\n",
      "f200     3.505070\n",
      "dtype: float64\n"
     ]
    },
    {
     "name": "stderr",
     "output_type": "stream",
     "text": [
      "/var/folders/w7/s0fpj10s56vggmksv5380b8r0000gn/T/ipykernel_1699/1606099996.py:3: RuntimeWarning: Precision loss occurred in moment calculation due to catastrophic cancellation. This occurs when the data are nearly identical. Results may be unreliable.\n",
      "  skewed_feats = data[numeric_feats].apply(lambda x: skew(x.dropna())) #compute skewness\n"
     ]
    }
   ],
   "source": [
    "numeric_feats = data.dtypes[data.dtypes != \"object\"].index\n",
    "\n",
    "skewed_feats = data[numeric_feats].apply(lambda x: skew(x.dropna())) #compute skewness\n",
    "top_10_index = skewed_feats.sort_values(ascending=False)[:10]\n",
    "print(top_10_index)\n",
    "top_10_index = top_10_index.index\n",
    "\n"
   ]
  },
  {
   "cell_type": "markdown",
   "metadata": {},
   "source": [
    "log 를 통해 어느정도 편향도가 해소되는 것을 확인할 수 있다."
   ]
  },
  {
   "cell_type": "code",
   "execution_count": 335,
   "metadata": {},
   "outputs": [
    {
     "name": "stderr",
     "output_type": "stream",
     "text": [
      "/Users/handongmin/opt/anaconda3/lib/python3.9/site-packages/pandas/core/arraylike.py:397: RuntimeWarning: invalid value encountered in log1p\n",
      "  result = getattr(ufunc, method)(*inputs, **kwargs)\n"
     ]
    },
    {
     "data": {
      "image/png": "[encoded data removed]",
      "text/plain": [
       "<Figure size 800x400 with 2 Axes>"
      ]
     },
     "metadata": {},
     "output_type": "display_data"
    },
    {
     "data": {
      "image/png": "[encoded data removed]",
      "text/plain": [
       "<Figure size 800x400 with 2 Axes>"
      ]
     },
     "metadata": {},
     "output_type": "display_data"
    },
    {
     "data": {
      "image/png": "[encoded data removed]",
      "text/plain": [
       "<Figure size 800x400 with 2 Axes>"
      ]
     },
     "metadata": {},
     "output_type": "display_data"
    },
    {
     "data": {
      "image/png": "[encoded data removed]",
      "text/plain": [
       "<Figure size 800x400 with 2 Axes>"
      ]
     },
     "metadata": {},
     "output_type": "display_data"
    },
    {
     "data": {
      "image/png": "[encoded data removed]",
      "text/plain": [
       "<Figure size 800x400 with 2 Axes>"
      ]
     },
     "metadata": {},
     "output_type": "display_data"
    },
    {
     "data": {
      "image/png": "[encoded data removed]",
      "text/plain": [
       "<Figure size 800x400 with 2 Axes>"
      ]
     },
     "metadata": {},
     "output_type": "display_data"
    },
    {
     "data": {
      "image/png": "[encoded data removed]",
      "text/plain": [
       "<Figure size 800x400 with 2 Axes>"
      ]
     },
     "metadata": {},
     "output_type": "display_data"
    },
    {
     "data": {
      "image/png": "[encoded data removed]",
      "text/plain": [
       "<Figure size 800x400 with 2 Axes>"
      ]
     },
     "metadata": {},
     "output_type": "display_data"
    },
    {
     "data": {
      "image/png": "[encoded data removed]",
      "text/plain": [
       "<Figure size 800x400 with 2 Axes>"
      ]
     },
     "metadata": {},
     "output_type": "display_data"
    },
    {
     "data": {
      "image/png": "[encoded data removed]",
      "text/plain": [
       "<Figure size 800x400 with 2 Axes>"
      ]
     },
     "metadata": {},
     "output_type": "display_data"
    }
   ],
   "source": [
    "for i in top_10_index:\n",
    "    matplotlib.rcParams['figure.figsize'] = (8.0, 4.0)\n",
    "    prices = pd.DataFrame({ i:data[i], \"log(\" + i + \" + 1)\":np.log1p(data[i])})\n",
    "    prices.hist() "
   ]
  },
  {
   "cell_type": "markdown",
   "metadata": {},
   "source": [
    "Log(x + 1)로 변형한 결과 Top10의 편향도는 물론이고, 전체적인 편향도가 낮아진 것을 확인할 수 있다."
   ]
  },
  {
   "cell_type": "code",
   "execution_count": 336,
   "metadata": {},
   "outputs": [
    {
     "name": "stdout",
     "output_type": "stream",
     "text": [
      "f65     20.720429\n",
      "f66     17.661339\n",
      "f14      1.703379\n",
      "f277     1.405559\n",
      "f204     1.401090\n",
      "f203     1.398109\n",
      "f202     1.396626\n",
      "f200     1.371888\n",
      "f278     1.346244\n",
      "f274     1.343837\n",
      "dtype: float64\n"
     ]
    },
    {
     "name": "stderr",
     "output_type": "stream",
     "text": [
      "/var/folders/w7/s0fpj10s56vggmksv5380b8r0000gn/T/ipykernel_1699/1438131618.py:6: RuntimeWarning: Precision loss occurred in moment calculation due to catastrophic cancellation. This occurs when the data are nearly identical. Results may be unreliable.\n",
      "  skewed_feats = data[numeric_feats].apply(lambda x: skew(x.dropna()))\n"
     ]
    }
   ],
   "source": [
    "skewed_feats = skewed_feats[abs(skewed_feats) > 0.75].index\n",
    "\n",
    "for i in skewed_feats:\n",
    "    data[i] = np.log1p(data[i])\n",
    "\n",
    "skewed_feats = data[numeric_feats].apply(lambda x: skew(x.dropna()))\n",
    "print(skewed_feats.sort_values(ascending=False)[:10])"
   ]
  },
  {
   "cell_type": "markdown",
   "metadata": {},
   "source": [
    "#### 정규화"
   ]
  },
  {
   "attachments": {},
   "cell_type": "markdown",
   "metadata": {},
   "source": [
    "데이터의 분포도를 확인해보면, 각 feature마다 큰 차이가 없는 것을 확인할 수 있다. -> 평균은 대부분 0, std또한 1의 근접."
   ]
  },
  {
   "cell_type": "code",
   "execution_count": 337,
   "metadata": {},
   "outputs": [
    {
     "data": {
      "text/html": [
       "<div>\n",
       "<style scoped>\n",
       "    .dataframe tbody tr th:only-of-type {\n",
       "        vertical-align: middle;\n",
       "    }\n",
       "\n",
       "    .dataframe tbody tr th {\n",
       "        vertical-align: top;\n",
       "    }\n",
       "\n",
       "    .dataframe thead th {\n",
       "        text-align: right;\n",
       "    }\n",
       "</style>\n",
       "<table border=\"1\" class=\"dataframe\">\n",
       "  <thead>\n",
       "    <tr style=\"text-align: right;\">\n",
       "      <th></th>\n",
       "      <th>f1</th>\n",
       "      <th>f2</th>\n",
       "      <th>f3</th>\n",
       "      <th>f4</th>\n",
       "      <th>f5</th>\n",
       "      <th>f6</th>\n",
       "      <th>f7</th>\n",
       "      <th>f8</th>\n",
       "      <th>f9</th>\n",
       "      <th>f10</th>\n",
       "      <th>...</th>\n",
       "      <th>f340</th>\n",
       "      <th>f341</th>\n",
       "      <th>f342</th>\n",
       "      <th>f343</th>\n",
       "      <th>f344</th>\n",
       "      <th>f345</th>\n",
       "      <th>f346</th>\n",
       "      <th>f347</th>\n",
       "      <th>f348</th>\n",
       "      <th>answer</th>\n",
       "    </tr>\n",
       "  </thead>\n",
       "  <tbody>\n",
       "    <tr>\n",
       "      <th>count</th>\n",
       "      <td>544.000000</td>\n",
       "      <td>650.000000</td>\n",
       "      <td>650.000000</td>\n",
       "      <td>544.000000</td>\n",
       "      <td>547.000000</td>\n",
       "      <td>556.000000</td>\n",
       "      <td>541.000000</td>\n",
       "      <td>620.000000</td>\n",
       "      <td>650.000000</td>\n",
       "      <td>650.000000</td>\n",
       "      <td>...</td>\n",
       "      <td>650.000000</td>\n",
       "      <td>544.000000</td>\n",
       "      <td>650.000000</td>\n",
       "      <td>650.000000</td>\n",
       "      <td>590.000000</td>\n",
       "      <td>650.000000</td>\n",
       "      <td>546.000000</td>\n",
       "      <td>650.000000</td>\n",
       "      <td>650.000000</td>\n",
       "      <td>650.000000</td>\n",
       "    </tr>\n",
       "    <tr>\n",
       "      <th>mean</th>\n",
       "      <td>0.049959</td>\n",
       "      <td>0.008584</td>\n",
       "      <td>0.008183</td>\n",
       "      <td>-0.159057</td>\n",
       "      <td>0.131531</td>\n",
       "      <td>0.114346</td>\n",
       "      <td>-0.028488</td>\n",
       "      <td>-0.389138</td>\n",
       "      <td>-0.031464</td>\n",
       "      <td>-0.005901</td>\n",
       "      <td>...</td>\n",
       "      <td>-0.454994</td>\n",
       "      <td>-0.155701</td>\n",
       "      <td>0.009903</td>\n",
       "      <td>0.019381</td>\n",
       "      <td>-0.215628</td>\n",
       "      <td>0.006140</td>\n",
       "      <td>-0.184174</td>\n",
       "      <td>0.016084</td>\n",
       "      <td>-0.000650</td>\n",
       "      <td>1.596923</td>\n",
       "    </tr>\n",
       "    <tr>\n",
       "      <th>std</th>\n",
       "      <td>0.886601</td>\n",
       "      <td>1.009757</td>\n",
       "      <td>1.003693</td>\n",
       "      <td>1.041801</td>\n",
       "      <td>0.697176</td>\n",
       "      <td>0.632349</td>\n",
       "      <td>0.916207</td>\n",
       "      <td>1.072816</td>\n",
       "      <td>0.977971</td>\n",
       "      <td>0.989498</td>\n",
       "      <td>...</td>\n",
       "      <td>0.983825</td>\n",
       "      <td>1.043385</td>\n",
       "      <td>1.023392</td>\n",
       "      <td>0.990331</td>\n",
       "      <td>0.950139</td>\n",
       "      <td>1.013217</td>\n",
       "      <td>1.056148</td>\n",
       "      <td>0.988036</td>\n",
       "      <td>0.996245</td>\n",
       "      <td>0.684850</td>\n",
       "    </tr>\n",
       "    <tr>\n",
       "      <th>min</th>\n",
       "      <td>-5.287954</td>\n",
       "      <td>-2.607772</td>\n",
       "      <td>-3.092074</td>\n",
       "      <td>-5.460866</td>\n",
       "      <td>-3.910763</td>\n",
       "      <td>-3.545955</td>\n",
       "      <td>-5.042234</td>\n",
       "      <td>-5.775964</td>\n",
       "      <td>-2.947241</td>\n",
       "      <td>-2.328078</td>\n",
       "      <td>...</td>\n",
       "      <td>-1.900670</td>\n",
       "      <td>-4.684804</td>\n",
       "      <td>-3.130989</td>\n",
       "      <td>-2.640227</td>\n",
       "      <td>-5.769875</td>\n",
       "      <td>-4.172430</td>\n",
       "      <td>-6.540563</td>\n",
       "      <td>-3.482437</td>\n",
       "      <td>-3.877779</td>\n",
       "      <td>1.000000</td>\n",
       "    </tr>\n",
       "    <tr>\n",
       "      <th>25%</th>\n",
       "      <td>-0.225271</td>\n",
       "      <td>-0.741285</td>\n",
       "      <td>-0.641448</td>\n",
       "      <td>-0.591319</td>\n",
       "      <td>-0.054762</td>\n",
       "      <td>-0.112118</td>\n",
       "      <td>-0.364294</td>\n",
       "      <td>-1.065957</td>\n",
       "      <td>-0.640792</td>\n",
       "      <td>-0.511622</td>\n",
       "      <td>...</td>\n",
       "      <td>-1.419505</td>\n",
       "      <td>-0.653688</td>\n",
       "      <td>-0.626120</td>\n",
       "      <td>-0.752772</td>\n",
       "      <td>-0.712508</td>\n",
       "      <td>-0.630762</td>\n",
       "      <td>-0.604545</td>\n",
       "      <td>-0.591307</td>\n",
       "      <td>-0.589563</td>\n",
       "      <td>1.000000</td>\n",
       "    </tr>\n",
       "    <tr>\n",
       "      <th>50%</th>\n",
       "      <td>0.341539</td>\n",
       "      <td>-0.085561</td>\n",
       "      <td>-0.125059</td>\n",
       "      <td>0.092319</td>\n",
       "      <td>0.298099</td>\n",
       "      <td>0.255167</td>\n",
       "      <td>0.202706</td>\n",
       "      <td>-0.273678</td>\n",
       "      <td>-0.079813</td>\n",
       "      <td>0.198814</td>\n",
       "      <td>...</td>\n",
       "      <td>-0.582017</td>\n",
       "      <td>0.055568</td>\n",
       "      <td>-0.113994</td>\n",
       "      <td>-0.163300</td>\n",
       "      <td>-0.082158</td>\n",
       "      <td>-0.013306</td>\n",
       "      <td>-0.081810</td>\n",
       "      <td>0.092563</td>\n",
       "      <td>0.076969</td>\n",
       "      <td>1.000000</td>\n",
       "    </tr>\n",
       "    <tr>\n",
       "      <th>75%</th>\n",
       "      <td>0.613864</td>\n",
       "      <td>0.691273</td>\n",
       "      <td>0.626981</td>\n",
       "      <td>0.482954</td>\n",
       "      <td>0.578134</td>\n",
       "      <td>0.510920</td>\n",
       "      <td>0.444123</td>\n",
       "      <td>0.391172</td>\n",
       "      <td>0.454957</td>\n",
       "      <td>0.662861</td>\n",
       "      <td>...</td>\n",
       "      <td>0.435843</td>\n",
       "      <td>0.590115</td>\n",
       "      <td>0.556908</td>\n",
       "      <td>0.870034</td>\n",
       "      <td>0.406527</td>\n",
       "      <td>0.701104</td>\n",
       "      <td>0.613518</td>\n",
       "      <td>0.753586</td>\n",
       "      <td>0.660879</td>\n",
       "      <td>2.000000</td>\n",
       "    </tr>\n",
       "    <tr>\n",
       "      <th>max</th>\n",
       "      <td>1.040288</td>\n",
       "      <td>2.765171</td>\n",
       "      <td>3.551567</td>\n",
       "      <td>1.862988</td>\n",
       "      <td>0.943586</td>\n",
       "      <td>1.109980</td>\n",
       "      <td>1.671413</td>\n",
       "      <td>2.198019</td>\n",
       "      <td>3.929802</td>\n",
       "      <td>2.805231</td>\n",
       "      <td>...</td>\n",
       "      <td>1.777601</td>\n",
       "      <td>1.716525</td>\n",
       "      <td>2.938023</td>\n",
       "      <td>3.782052</td>\n",
       "      <td>1.990313</td>\n",
       "      <td>3.108610</td>\n",
       "      <td>1.694336</td>\n",
       "      <td>2.049950</td>\n",
       "      <td>3.263902</td>\n",
       "      <td>3.000000</td>\n",
       "    </tr>\n",
       "  </tbody>\n",
       "</table>\n",
       "<p>8 rows × 349 columns</p>\n",
       "</div>"
      ],
      "text/plain": [
       "               f1          f2          f3          f4          f5          f6  \\\n",
       "count  544.000000  650.000000  650.000000  544.000000  547.000000  556.000000   \n",
       "mean     0.049959    0.008584    0.008183   -0.159057    0.131531    0.114346   \n",
       "std      0.886601    1.009757    1.003693    1.041801    0.697176    0.632349   \n",
       "min     -5.287954   -2.607772   -3.092074   -5.460866   -3.910763   -3.545955   \n",
       "25%     -0.225271   -0.741285   -0.641448   -0.591319   -0.054762   -0.112118   \n",
       "50%      0.341539   -0.085561   -0.125059    0.092319    0.298099    0.255167   \n",
       "75%      0.613864    0.691273    0.626981    0.482954    0.578134    0.510920   \n",
       "max      1.040288    2.765171    3.551567    1.862988    0.943586    1.109980   \n",
       "\n",
       "               f7          f8          f9         f10  ...        f340  \\\n",
       "count  541.000000  620.000000  650.000000  650.000000  ...  650.000000   \n",
       "mean    -0.028488   -0.389138   -0.031464   -0.005901  ...   -0.454994   \n",
       "std      0.916207    1.072816    0.977971    0.989498  ...    0.983825   \n",
       "min     -5.042234   -5.775964   -2.947241   -2.328078  ...   -1.900670   \n",
       "25%     -0.364294   -1.065957   -0.640792   -0.511622  ...   -1.419505   \n",
       "50%      0.202706   -0.273678   -0.079813    0.198814  ...   -0.582017   \n",
       "75%      0.444123    0.391172    0.454957    0.662861  ...    0.435843   \n",
       "max      1.671413    2.198019    3.929802    2.805231  ...    1.777601   \n",
       "\n",
       "             f341        f342        f343        f344        f345        f346  \\\n",
       "count  544.000000  650.000000  650.000000  590.000000  650.000000  546.000000   \n",
       "mean    -0.155701    0.009903    0.019381   -0.215628    0.006140   -0.184174   \n",
       "std      1.043385    1.023392    0.990331    0.950139    1.013217    1.056148   \n",
       "min     -4.684804   -3.130989   -2.640227   -5.769875   -4.172430   -6.540563   \n",
       "25%     -0.653688   -0.626120   -0.752772   -0.712508   -0.630762   -0.604545   \n",
       "50%      0.055568   -0.113994   -0.163300   -0.082158   -0.013306   -0.081810   \n",
       "75%      0.590115    0.556908    0.870034    0.406527    0.701104    0.613518   \n",
       "max      1.716525    2.938023    3.782052    1.990313    3.108610    1.694336   \n",
       "\n",
       "             f347        f348      answer  \n",
       "count  650.000000  650.000000  650.000000  \n",
       "mean     0.016084   -0.000650    1.596923  \n",
       "std      0.988036    0.996245    0.684850  \n",
       "min     -3.482437   -3.877779    1.000000  \n",
       "25%     -0.591307   -0.589563    1.000000  \n",
       "50%      0.092563    0.076969    1.000000  \n",
       "75%      0.753586    0.660879    2.000000  \n",
       "max      2.049950    3.263902    3.000000  \n",
       "\n",
       "[8 rows x 349 columns]"
      ]
     },
     "execution_count": 337,
     "metadata": {},
     "output_type": "execute_result"
    }
   ],
   "source": [
    "data.describe()"
   ]
  },
  {
   "cell_type": "code",
   "execution_count": 338,
   "metadata": {},
   "outputs": [],
   "source": [
    "## 정규화적용유무는 모델링에 대한 acc값을 통해 판단하려고 합니다.\n",
    "import warnings\n",
    "warnings.filterwarnings('ignore', module='sklearn')\n",
    "msc = MinMaxScaler()\n",
    "def transform_test(X_test_data):\n",
    "    X_test_data = msc.transform(X_test_data)\n",
    "    return X_test_data"
   ]
  },
  {
   "attachments": {},
   "cell_type": "markdown",
   "metadata": {},
   "source": [
    "#### 결측치 처리"
   ]
  },
  {
   "cell_type": "code",
   "execution_count": 339,
   "metadata": {},
   "outputs": [
    {
     "data": {
      "text/plain": [
       "f1        106\n",
       "f2          0\n",
       "f3          0\n",
       "f4        106\n",
       "f5        103\n",
       "         ... \n",
       "f345        0\n",
       "f346      104\n",
       "f347        0\n",
       "f348        0\n",
       "answer      0\n",
       "Length: 349, dtype: int64"
      ]
     },
     "execution_count": 339,
     "metadata": {},
     "output_type": "execute_result"
    }
   ],
   "source": [
    "pd.isnull(data).sum()"
   ]
  },
  {
   "cell_type": "code",
   "execution_count": 340,
   "metadata": {},
   "outputs": [],
   "source": [
    "data = data.fillna(data.mean())"
   ]
  },
  {
   "cell_type": "code",
   "execution_count": 341,
   "metadata": {},
   "outputs": [
    {
     "name": "stderr",
     "output_type": "stream",
     "text": [
      "/Users/handongmin/opt/anaconda3/lib/python3.9/site-packages/seaborn/distributions.py:2619: FutureWarning: `distplot` is a deprecated function and will be removed in a future version. Please adapt your code to use either `displot` (a figure-level function with similar flexibility) or `histplot` (an axes-level function for histograms).\n",
      "  warnings.warn(msg, FutureWarning)\n"
     ]
    },
    {
     "data": {
      "image/png": "[encoded data removed]",
      "text/plain": [
       "<Figure size 800x400 with 1 Axes>"
      ]
     },
     "metadata": {},
     "output_type": "display_data"
    }
   ],
   "source": [
    "#데이터의 분포가 정규분포꼴임을 확인가능합니다.\n",
    "sns.distplot(data)\n",
    "plt.show()"
   ]
  },
  {
   "cell_type": "code",
   "execution_count": 342,
   "metadata": {},
   "outputs": [
    {
     "data": {
      "text/html": [
       "<div>\n",
       "<style scoped>\n",
       "    .dataframe tbody tr th:only-of-type {\n",
       "        vertical-align: middle;\n",
       "    }\n",
       "\n",
       "    .dataframe tbody tr th {\n",
       "        vertical-align: top;\n",
       "    }\n",
       "\n",
       "    .dataframe thead th {\n",
       "        text-align: right;\n",
       "    }\n",
       "</style>\n",
       "<table border=\"1\" class=\"dataframe\">\n",
       "  <thead>\n",
       "    <tr style=\"text-align: right;\">\n",
       "      <th></th>\n",
       "      <th>f1</th>\n",
       "      <th>f2</th>\n",
       "      <th>f3</th>\n",
       "      <th>f4</th>\n",
       "      <th>f5</th>\n",
       "      <th>f6</th>\n",
       "      <th>f7</th>\n",
       "      <th>f8</th>\n",
       "      <th>f9</th>\n",
       "      <th>f10</th>\n",
       "      <th>...</th>\n",
       "      <th>f340</th>\n",
       "      <th>f341</th>\n",
       "      <th>f342</th>\n",
       "      <th>f343</th>\n",
       "      <th>f344</th>\n",
       "      <th>f345</th>\n",
       "      <th>f346</th>\n",
       "      <th>f347</th>\n",
       "      <th>f348</th>\n",
       "      <th>answer</th>\n",
       "    </tr>\n",
       "  </thead>\n",
       "  <tbody>\n",
       "    <tr>\n",
       "      <th>count</th>\n",
       "      <td>650.000000</td>\n",
       "      <td>650.000000</td>\n",
       "      <td>650.000000</td>\n",
       "      <td>650.000000</td>\n",
       "      <td>650.000000</td>\n",
       "      <td>650.000000</td>\n",
       "      <td>650.000000</td>\n",
       "      <td>650.000000</td>\n",
       "      <td>650.000000</td>\n",
       "      <td>650.000000</td>\n",
       "      <td>...</td>\n",
       "      <td>650.000000</td>\n",
       "      <td>650.000000</td>\n",
       "      <td>650.000000</td>\n",
       "      <td>650.000000</td>\n",
       "      <td>650.000000</td>\n",
       "      <td>650.000000</td>\n",
       "      <td>650.000000</td>\n",
       "      <td>650.000000</td>\n",
       "      <td>650.000000</td>\n",
       "      <td>650.000000</td>\n",
       "    </tr>\n",
       "    <tr>\n",
       "      <th>mean</th>\n",
       "      <td>0.049959</td>\n",
       "      <td>0.008584</td>\n",
       "      <td>0.008183</td>\n",
       "      <td>-0.159057</td>\n",
       "      <td>0.131531</td>\n",
       "      <td>0.114346</td>\n",
       "      <td>-0.028488</td>\n",
       "      <td>-0.389138</td>\n",
       "      <td>-0.031464</td>\n",
       "      <td>-0.005901</td>\n",
       "      <td>...</td>\n",
       "      <td>-0.454994</td>\n",
       "      <td>-0.155701</td>\n",
       "      <td>0.009903</td>\n",
       "      <td>0.019381</td>\n",
       "      <td>-0.215628</td>\n",
       "      <td>0.006140</td>\n",
       "      <td>-0.184174</td>\n",
       "      <td>0.016084</td>\n",
       "      <td>-0.000650</td>\n",
       "      <td>1.596923</td>\n",
       "    </tr>\n",
       "    <tr>\n",
       "      <th>std</th>\n",
       "      <td>0.810972</td>\n",
       "      <td>1.009757</td>\n",
       "      <td>1.003693</td>\n",
       "      <td>0.952933</td>\n",
       "      <td>0.639464</td>\n",
       "      <td>0.584764</td>\n",
       "      <td>0.835734</td>\n",
       "      <td>1.047727</td>\n",
       "      <td>0.977971</td>\n",
       "      <td>0.989498</td>\n",
       "      <td>...</td>\n",
       "      <td>0.983825</td>\n",
       "      <td>0.954382</td>\n",
       "      <td>1.023392</td>\n",
       "      <td>0.990331</td>\n",
       "      <td>0.905154</td>\n",
       "      <td>1.013217</td>\n",
       "      <td>0.967834</td>\n",
       "      <td>0.988036</td>\n",
       "      <td>0.996245</td>\n",
       "      <td>0.684850</td>\n",
       "    </tr>\n",
       "    <tr>\n",
       "      <th>min</th>\n",
       "      <td>-5.287954</td>\n",
       "      <td>-2.607772</td>\n",
       "      <td>-3.092074</td>\n",
       "      <td>-5.460866</td>\n",
       "      <td>-3.910763</td>\n",
       "      <td>-3.545955</td>\n",
       "      <td>-5.042234</td>\n",
       "      <td>-5.775964</td>\n",
       "      <td>-2.947241</td>\n",
       "      <td>-2.328078</td>\n",
       "      <td>...</td>\n",
       "      <td>-1.900670</td>\n",
       "      <td>-4.684804</td>\n",
       "      <td>-3.130989</td>\n",
       "      <td>-2.640227</td>\n",
       "      <td>-5.769875</td>\n",
       "      <td>-4.172430</td>\n",
       "      <td>-6.540563</td>\n",
       "      <td>-3.482437</td>\n",
       "      <td>-3.877779</td>\n",
       "      <td>1.000000</td>\n",
       "    </tr>\n",
       "    <tr>\n",
       "      <th>25%</th>\n",
       "      <td>-0.098128</td>\n",
       "      <td>-0.741285</td>\n",
       "      <td>-0.641448</td>\n",
       "      <td>-0.484102</td>\n",
       "      <td>0.054695</td>\n",
       "      <td>-0.028123</td>\n",
       "      <td>-0.210588</td>\n",
       "      <td>-1.026805</td>\n",
       "      <td>-0.640792</td>\n",
       "      <td>-0.511622</td>\n",
       "      <td>...</td>\n",
       "      <td>-1.419505</td>\n",
       "      <td>-0.458475</td>\n",
       "      <td>-0.626120</td>\n",
       "      <td>-0.752772</td>\n",
       "      <td>-0.581117</td>\n",
       "      <td>-0.630762</td>\n",
       "      <td>-0.515496</td>\n",
       "      <td>-0.591307</td>\n",
       "      <td>-0.589563</td>\n",
       "      <td>1.000000</td>\n",
       "    </tr>\n",
       "    <tr>\n",
       "      <th>50%</th>\n",
       "      <td>0.186818</td>\n",
       "      <td>-0.085561</td>\n",
       "      <td>-0.125059</td>\n",
       "      <td>-0.159057</td>\n",
       "      <td>0.208806</td>\n",
       "      <td>0.186913</td>\n",
       "      <td>0.081581</td>\n",
       "      <td>-0.364858</td>\n",
       "      <td>-0.079813</td>\n",
       "      <td>0.198814</td>\n",
       "      <td>...</td>\n",
       "      <td>-0.582017</td>\n",
       "      <td>-0.155701</td>\n",
       "      <td>-0.113994</td>\n",
       "      <td>-0.163300</td>\n",
       "      <td>-0.178399</td>\n",
       "      <td>-0.013306</td>\n",
       "      <td>-0.184174</td>\n",
       "      <td>0.092563</td>\n",
       "      <td>0.076969</td>\n",
       "      <td>1.000000</td>\n",
       "    </tr>\n",
       "    <tr>\n",
       "      <th>75%</th>\n",
       "      <td>0.570595</td>\n",
       "      <td>0.691273</td>\n",
       "      <td>0.626981</td>\n",
       "      <td>0.411601</td>\n",
       "      <td>0.530153</td>\n",
       "      <td>0.468162</td>\n",
       "      <td>0.394874</td>\n",
       "      <td>0.368694</td>\n",
       "      <td>0.454957</td>\n",
       "      <td>0.662861</td>\n",
       "      <td>...</td>\n",
       "      <td>0.435843</td>\n",
       "      <td>0.496942</td>\n",
       "      <td>0.556908</td>\n",
       "      <td>0.870034</td>\n",
       "      <td>0.339754</td>\n",
       "      <td>0.701104</td>\n",
       "      <td>0.499036</td>\n",
       "      <td>0.753586</td>\n",
       "      <td>0.660879</td>\n",
       "      <td>2.000000</td>\n",
       "    </tr>\n",
       "    <tr>\n",
       "      <th>max</th>\n",
       "      <td>1.040288</td>\n",
       "      <td>2.765171</td>\n",
       "      <td>3.551567</td>\n",
       "      <td>1.862988</td>\n",
       "      <td>0.943586</td>\n",
       "      <td>1.109980</td>\n",
       "      <td>1.671413</td>\n",
       "      <td>2.198019</td>\n",
       "      <td>3.929802</td>\n",
       "      <td>2.805231</td>\n",
       "      <td>...</td>\n",
       "      <td>1.777601</td>\n",
       "      <td>1.716525</td>\n",
       "      <td>2.938023</td>\n",
       "      <td>3.782052</td>\n",
       "      <td>1.990313</td>\n",
       "      <td>3.108610</td>\n",
       "      <td>1.694336</td>\n",
       "      <td>2.049950</td>\n",
       "      <td>3.263902</td>\n",
       "      <td>3.000000</td>\n",
       "    </tr>\n",
       "  </tbody>\n",
       "</table>\n",
       "<p>8 rows × 349 columns</p>\n",
       "</div>"
      ],
      "text/plain": [
       "               f1          f2          f3          f4          f5          f6  \\\n",
       "count  650.000000  650.000000  650.000000  650.000000  650.000000  650.000000   \n",
       "mean     0.049959    0.008584    0.008183   -0.159057    0.131531    0.114346   \n",
       "std      0.810972    1.009757    1.003693    0.952933    0.639464    0.584764   \n",
       "min     -5.287954   -2.607772   -3.092074   -5.460866   -3.910763   -3.545955   \n",
       "25%     -0.098128   -0.741285   -0.641448   -0.484102    0.054695   -0.028123   \n",
       "50%      0.186818   -0.085561   -0.125059   -0.159057    0.208806    0.186913   \n",
       "75%      0.570595    0.691273    0.626981    0.411601    0.530153    0.468162   \n",
       "max      1.040288    2.765171    3.551567    1.862988    0.943586    1.109980   \n",
       "\n",
       "               f7          f8          f9         f10  ...        f340  \\\n",
       "count  650.000000  650.000000  650.000000  650.000000  ...  650.000000   \n",
       "mean    -0.028488   -0.389138   -0.031464   -0.005901  ...   -0.454994   \n",
       "std      0.835734    1.047727    0.977971    0.989498  ...    0.983825   \n",
       "min     -5.042234   -5.775964   -2.947241   -2.328078  ...   -1.900670   \n",
       "25%     -0.210588   -1.026805   -0.640792   -0.511622  ...   -1.419505   \n",
       "50%      0.081581   -0.364858   -0.079813    0.198814  ...   -0.582017   \n",
       "75%      0.394874    0.368694    0.454957    0.662861  ...    0.435843   \n",
       "max      1.671413    2.198019    3.929802    2.805231  ...    1.777601   \n",
       "\n",
       "             f341        f342        f343        f344        f345        f346  \\\n",
       "count  650.000000  650.000000  650.000000  650.000000  650.000000  650.000000   \n",
       "mean    -0.155701    0.009903    0.019381   -0.215628    0.006140   -0.184174   \n",
       "std      0.954382    1.023392    0.990331    0.905154    1.013217    0.967834   \n",
       "min     -4.684804   -3.130989   -2.640227   -5.769875   -4.172430   -6.540563   \n",
       "25%     -0.458475   -0.626120   -0.752772   -0.581117   -0.630762   -0.515496   \n",
       "50%     -0.155701   -0.113994   -0.163300   -0.178399   -0.013306   -0.184174   \n",
       "75%      0.496942    0.556908    0.870034    0.339754    0.701104    0.499036   \n",
       "max      1.716525    2.938023    3.782052    1.990313    3.108610    1.694336   \n",
       "\n",
       "             f347        f348      answer  \n",
       "count  650.000000  650.000000  650.000000  \n",
       "mean     0.016084   -0.000650    1.596923  \n",
       "std      0.988036    0.996245    0.684850  \n",
       "min     -3.482437   -3.877779    1.000000  \n",
       "25%     -0.591307   -0.589563    1.000000  \n",
       "50%      0.092563    0.076969    1.000000  \n",
       "75%      0.753586    0.660879    2.000000  \n",
       "max      2.049950    3.263902    3.000000  \n",
       "\n",
       "[8 rows x 349 columns]"
      ]
     },
     "execution_count": 342,
     "metadata": {},
     "output_type": "execute_result"
    }
   ],
   "source": [
    "data.describe()"
   ]
  },
  {
   "attachments": {},
   "cell_type": "markdown",
   "metadata": {},
   "source": [
    "#### Feature selection\n",
    "- laaso 모델을 통해, Feature들의 중요도를 파악함."
   ]
  },
  {
   "cell_type": "code",
   "execution_count": 343,
   "metadata": {},
   "outputs": [],
   "source": [
    "# pearson's correlation feature selection for numeric input and numeric output\n",
    "from sklearn.datasets import make_regression\n",
    "from sklearn.feature_selection import SelectKBest\n",
    "from sklearn.feature_selection import f_regression\n",
    "from sklearn.linear_model import Ridge, Lasso\n",
    "from sklearn.linear_model import LassoCV"
   ]
  },
  {
   "cell_type": "code",
   "execution_count": 344,
   "metadata": {},
   "outputs": [
    {
     "data": {
      "text/html": [
       "<div>\n",
       "<style scoped>\n",
       "    .dataframe tbody tr th:only-of-type {\n",
       "        vertical-align: middle;\n",
       "    }\n",
       "\n",
       "    .dataframe tbody tr th {\n",
       "        vertical-align: top;\n",
       "    }\n",
       "\n",
       "    .dataframe thead th {\n",
       "        text-align: right;\n",
       "    }\n",
       "</style>\n",
       "<table border=\"1\" class=\"dataframe\">\n",
       "  <thead>\n",
       "    <tr style=\"text-align: right;\">\n",
       "      <th></th>\n",
       "      <th>f1</th>\n",
       "      <th>f2</th>\n",
       "      <th>f3</th>\n",
       "      <th>f4</th>\n",
       "      <th>f5</th>\n",
       "      <th>f6</th>\n",
       "      <th>f7</th>\n",
       "      <th>f8</th>\n",
       "      <th>f9</th>\n",
       "      <th>f10</th>\n",
       "      <th>...</th>\n",
       "      <th>f340</th>\n",
       "      <th>f341</th>\n",
       "      <th>f342</th>\n",
       "      <th>f343</th>\n",
       "      <th>f344</th>\n",
       "      <th>f345</th>\n",
       "      <th>f346</th>\n",
       "      <th>f347</th>\n",
       "      <th>f348</th>\n",
       "      <th>answer</th>\n",
       "    </tr>\n",
       "  </thead>\n",
       "  <tbody>\n",
       "    <tr>\n",
       "      <th>0</th>\n",
       "      <td>-0.182258</td>\n",
       "      <td>0.284691</td>\n",
       "      <td>-0.011022</td>\n",
       "      <td>-0.159057</td>\n",
       "      <td>0.096812</td>\n",
       "      <td>0.404296</td>\n",
       "      <td>-0.377703</td>\n",
       "      <td>0.792403</td>\n",
       "      <td>-1.503008</td>\n",
       "      <td>-1.457764</td>\n",
       "      <td>...</td>\n",
       "      <td>1.143178</td>\n",
       "      <td>-0.155701</td>\n",
       "      <td>0.040614</td>\n",
       "      <td>1.127366</td>\n",
       "      <td>0.554759</td>\n",
       "      <td>-0.70773</td>\n",
       "      <td>0.074874</td>\n",
       "      <td>0.832992</td>\n",
       "      <td>-1.291423</td>\n",
       "      <td>2</td>\n",
       "    </tr>\n",
       "  </tbody>\n",
       "</table>\n",
       "<p>1 rows × 349 columns</p>\n",
       "</div>"
      ],
      "text/plain": [
       "         f1        f2        f3        f4        f5        f6        f7  \\\n",
       "0 -0.182258  0.284691 -0.011022 -0.159057  0.096812  0.404296 -0.377703   \n",
       "\n",
       "         f8        f9       f10  ...      f340      f341      f342      f343  \\\n",
       "0  0.792403 -1.503008 -1.457764  ...  1.143178 -0.155701  0.040614  1.127366   \n",
       "\n",
       "       f344     f345      f346      f347      f348  answer  \n",
       "0  0.554759 -0.70773  0.074874  0.832992 -1.291423       2  \n",
       "\n",
       "[1 rows x 349 columns]"
      ]
     },
     "execution_count": 344,
     "metadata": {},
     "output_type": "execute_result"
    }
   ],
   "source": [
    "features = data.columns[:-1]\n",
    "X_data = data[features]\n",
    "y_data = data['answer']\n",
    "data.head(1)"
   ]
  },
  {
   "cell_type": "code",
   "execution_count": 345,
   "metadata": {},
   "outputs": [],
   "source": [
    "alphas = [1, 0.5, 0.1, 0.01, 0.005 ,0.001, 0.0005,0.0001]\n",
    "model_lasso = LassoCV(alphas=alphas,\n",
    "                  max_iter=5e4,\n",
    "                  cv=3).fit(X_data, y_data)"
   ]
  },
  {
   "cell_type": "code",
   "execution_count": 346,
   "metadata": {},
   "outputs": [],
   "source": [
    "coef = pd.Series(model_lasso.coef_, index = X_data.columns)"
   ]
  },
  {
   "cell_type": "code",
   "execution_count": 347,
   "metadata": {},
   "outputs": [
    {
     "name": "stdout",
     "output_type": "stream",
     "text": [
      "Lasso picked 145 variables and eliminated the other 203 variables\n"
     ]
    }
   ],
   "source": [
    "print(\"Lasso picked \" + str(sum(coef != 0)) + \" variables and eliminated the other \" +  str(sum(coef == 0)) + \" variables\")"
   ]
  },
  {
   "cell_type": "code",
   "execution_count": 348,
   "metadata": {},
   "outputs": [
    {
     "data": {
      "text/plain": [
       "Text(0.5, 1.0, 'Coefficients in the Lasso Model')"
      ]
     },
     "execution_count": 348,
     "metadata": {},
     "output_type": "execute_result"
    },
    {
     "data": {
      "image/png": "[encoded data removed]",
      "text/plain": [
       "<Figure size 800x1000 with 1 Axes>"
      ]
     },
     "metadata": {},
     "output_type": "display_data"
    }
   ],
   "source": [
    "imp_coef = pd.concat([coef.sort_values().head(20),\n",
    "                     coef.sort_values().tail(20)])\n",
    "matplotlib.rcParams['figure.figsize'] = (8.0, 10.0)\n",
    "imp_coef.plot(kind = \"barh\")\n",
    "plt.title(\"Coefficients in the Lasso Model\")"
   ]
  },
  {
   "attachments": {},
   "cell_type": "markdown",
   "metadata": {},
   "source": [
    "## Model Training\n",
    "- 다양한 모델들을 통해, 분석하였고 최종적으로 앙상블 모델 boosting 을 선택했습니다. 분류기를 여러개 합쳐, 더 강한 모델을 만드는 방식이며 그 중 Gradient 방식을 사용하는 GradientBoostingClassifier를 선택했습니다.\n",
    "- RBtree보다 평균적으로 성능이 좋으나, 학습하는 데 비교적 시간이 듭니다. 하지만, 현재의 데이터셋의 규모는 적으므로 GradientBoostingClassifier를 선택했습니다.\n",
    "- 최종적인 모델은 가장 하단에 존재합니다.\n"
   ]
  },
  {
   "cell_type": "code",
   "execution_count": 349,
   "metadata": {},
   "outputs": [],
   "source": [
    "from sklearn.datasets import make_regression\n",
    "from sklearn.ensemble import GradientBoostingClassifier\n",
    "from sklearn.model_selection import train_test_split\n",
    "from sklearn.metrics import accuracy_score"
   ]
  },
  {
   "cell_type": "code",
   "execution_count": 350,
   "metadata": {
    "ExecuteTime": {
     "end_time": "2021-09-24T17:39:31.792494Z",
     "start_time": "2021-09-24T17:39:29.483035Z"
    }
   },
   "outputs": [
    {
     "name": "stdout",
     "output_type": "stream",
     "text": [
      "(650, 348)\n",
      "(650,)\n",
      "0.9076923076923077\n",
      "0.8666666666666667\n"
     ]
    }
   ],
   "source": [
    "# msc = MinMaxScaler()\n",
    "# x = data.drop(labels='answer', axis=1)\n",
    "# y = data['answer']\n",
    "# msc.fit(x, y)\n",
    "# x__ = msc.transform(x)\n",
    "# print(x.shape)\n",
    "# print(y.shape)\n",
    "# X_train, X_test, y_train, y_test = train_test_split(x__, y, test_size=0.3)\n",
    "# reg = GradientBoostingClassifier(random_state=42)\n",
    "# reg.fit(X_train, y_train)\n",
    "# print(accuracy_score(y_test, reg.predict(X_test)))\n",
    "# _X_train, _X_test, _y_train, _y_test = train_test_split(x, y, test_size=0.3)\n",
    "# reg2 = GradientBoostingClassifier(random_state=42)\n",
    "# reg2.fit(_X_train, _y_train)\n",
    "# print(accuracy_score(_y_test, reg2.predict(_X_test)))"
   ]
  },
  {
   "cell_type": "code",
   "execution_count": 351,
   "metadata": {},
   "outputs": [
    {
     "data": {
      "text/plain": [
       "GradientBoostingClassifier(random_state=4194)"
      ]
     },
     "execution_count": 351,
     "metadata": {},
     "output_type": "execute_result"
    }
   ],
   "source": [
    "# #임의의 파라미터를 대입.\n",
    "# model = GradientBoostingClassifier(ccp_alpha=0.0, criterion='friedman_mse', init=None,\n",
    "#                            learning_rate=0.1, loss='deviance', max_depth=3,\n",
    "#                            max_features=None, max_leaf_nodes=None,\n",
    "#                            min_impurity_decrease=0.0,\n",
    "#                            min_samples_leaf=1, min_samples_split=2,\n",
    "#                            min_weight_fraction_leaf=0.0, n_estimators=100,\n",
    "#                            n_iter_no_change=None,\n",
    "#                            random_state=4194, subsample=1.0, tol=0.0001,\n",
    "#                            validation_fraction=0.1, verbose=0,\n",
    "#                            warm_start=False)\n",
    "# model"
   ]
  },
  {
   "cell_type": "code",
   "execution_count": 352,
   "metadata": {},
   "outputs": [
    {
     "data": {
      "text/plain": [
       "0.9128205128205128"
      ]
     },
     "execution_count": 352,
     "metadata": {},
     "output_type": "execute_result"
    }
   ],
   "source": [
    "# model.fit(X_train, y_train)\n",
    "# accuracy_score(y_test, model.predict(X_test))"
   ]
  },
  {
   "cell_type": "code",
   "execution_count": 353,
   "metadata": {},
   "outputs": [
    {
     "data": {
      "text/plain": [
       "<AxesSubplot:>"
      ]
     },
     "execution_count": 353,
     "metadata": {},
     "output_type": "execute_result"
    },
    {
     "data": {
      "image/png": "[encoded data removed]",
      "text/plain": [
       "<Figure size 800x1000 with 2 Axes>"
      ]
     },
     "metadata": {},
     "output_type": "display_data"
    }
   ],
   "source": [
    "# sns.heatmap(confusion_matrix(y_test,model.predict(X_test)),annot=True, cmap=\"PiYG\")"
   ]
  },
  {
   "cell_type": "code",
   "execution_count": 354,
   "metadata": {},
   "outputs": [
    {
     "data": {
      "text/plain": [
       "0.9025641025641026"
      ]
     },
     "execution_count": 354,
     "metadata": {},
     "output_type": "execute_result"
    }
   ],
   "source": [
    "# from sklearn.ensemble import HistGradientBoostingClassifier\n",
    "# from sklearn.datasets import load_iris\n",
    "# clf = HistGradientBoostingClassifier(\n",
    "#                learning_rate=0.1\n",
    "#                ).fit(X_train, y_train)\n",
    "# accuracy_score(y_test, clf.predict(X_test))"
   ]
  },
  {
   "cell_type": "code",
   "execution_count": 355,
   "metadata": {},
   "outputs": [
    {
     "data": {
      "text/plain": [
       "<AxesSubplot:>"
      ]
     },
     "execution_count": 355,
     "metadata": {},
     "output_type": "execute_result"
    },
    {
     "data": {
      "image/png": "[encoded data removed]",
      "text/plain": [
       "<Figure size 800x1000 with 2 Axes>"
      ]
     },
     "metadata": {},
     "output_type": "display_data"
    }
   ],
   "source": [
    "# sns.heatmap(confusion_matrix(y_test,clf.predict(X_test)),annot=True, cmap=\"PiYG\")"
   ]
  },
  {
   "cell_type": "code",
   "execution_count": 356,
   "metadata": {},
   "outputs": [],
   "source": [
    "# from sklearn.feature_selection import SelectFromModel\n",
    "# selector = SelectFromModel(GradientBoostingClassifier()).fit(X_train, y_train)"
   ]
  },
  {
   "cell_type": "code",
   "execution_count": 357,
   "metadata": {},
   "outputs": [
    {
     "name": "stdout",
     "output_type": "stream",
     "text": [
      "0.8923076923076924\n"
     ]
    }
   ],
   "source": [
    "# x_selected = selector.transform(X_train)\n",
    "# test_x_sel = selector.transform(X_test)\n",
    "# select = GradientBoostingClassifier(ccp_alpha=0.0, criterion='friedman_mse', init=None,\n",
    "#                            learning_rate=0.1, loss='deviance', max_depth=3,\n",
    "#                            max_features=1, max_leaf_nodes=None,\n",
    "#                            min_impurity_decrease=0.0,\n",
    "#                            min_samples_leaf=1, min_samples_split=2,\n",
    "#                            min_weight_fraction_leaf=0.0, n_estimators=100,\n",
    "#                            n_iter_no_change=None,\n",
    "#                            random_state=4194, subsample=0.8, tol=0.0001,\n",
    "#                            validation_fraction=0.1, verbose=0,\n",
    "#                            warm_start=False)\n",
    "# select.fit(x_selected, y_train)\n",
    "# print(accuracy_score(y_test, select.predict(test_x_sel)))"
   ]
  },
  {
   "cell_type": "code",
   "execution_count": 359,
   "metadata": {},
   "outputs": [
    {
     "data": {
      "text/plain": [
       "<AxesSubplot:>"
      ]
     },
     "execution_count": 359,
     "metadata": {},
     "output_type": "execute_result"
    },
    {
     "data": {
      "image/png": "[encoded data removed]",
      "text/plain": [
       "<Figure size 800x1000 with 2 Axes>"
      ]
     },
     "metadata": {},
     "output_type": "display_data"
    }
   ],
   "source": [
    "# sns.heatmap(confusion_matrix(y_test,select.predict(test_x_sel)),annot=True, cmap=\"PiYG\")"
   ]
  },
  {
   "attachments": {},
   "cell_type": "markdown",
   "metadata": {},
   "source": [
    "### 하이퍼파라미터 및 최종 모델"
   ]
  },
  {
   "attachments": {},
   "cell_type": "markdown",
   "metadata": {},
   "source": [
    "### 최종 transform_test function"
   ]
  },
  {
   "cell_type": "code",
   "execution_count": 363,
   "metadata": {},
   "outputs": [],
   "source": [
    "\n",
    "def transform_test(X_test_data):\n",
    "    numeric_feats = X_test_data.dtypes[X_test_data.dtypes != \"object\"].index\n",
    "    skewed_feats = X_test_data[numeric_feats].apply(lambda x: skew(x.dropna())) #compute skewness\n",
    "    skewed_feats = skewed_feats[abs(skewed_feats) > 0.75].index\n",
    "    for i in skewed_feats:\n",
    "        X_test_data[i] = np.log1p(X_test_data[i])\n",
    "    X_test_data = X_test_data.fillna(X_test_data.mean())\n",
    "    #X_test_data = msc.transform(X_test_data)\n",
    "    return X_test_data\n"
   ]
  },
  {
   "cell_type": "code",
   "execution_count": 364,
   "metadata": {},
   "outputs": [
    {
     "name": "stderr",
     "output_type": "stream",
     "text": [
      "/var/folders/w7/s0fpj10s56vggmksv5380b8r0000gn/T/ipykernel_1699/110196328.py:3: RuntimeWarning: Precision loss occurred in moment calculation due to catastrophic cancellation. This occurs when the data are nearly identical. Results may be unreliable.\n",
      "  skewed_feats = X_test_data[numeric_feats].apply(lambda x: skew(x.dropna())) #compute skewness\n",
      "/Users/handongmin/opt/anaconda3/lib/python3.9/site-packages/pandas/core/arraylike.py:397: RuntimeWarning: invalid value encountered in log1p\n",
      "  result = getattr(ufunc, method)(*inputs, **kwargs)\n"
     ]
    },
    {
     "name": "stdout",
     "output_type": "stream",
     "text": [
      "(650, 348, 650)\n"
     ]
    }
   ],
   "source": [
    "data = pd.read_csv(filepath1)\n",
    "x_data = data.drop(labels=\"answer\", axis=1)\n",
    "x_data = transform_test(x_data)\n",
    "y_data = data['answer']\n",
    "print(x_data.shape + y_data.shape)\n"
   ]
  },
  {
   "cell_type": "code",
   "execution_count": 365,
   "metadata": {},
   "outputs": [],
   "source": [
    "# from sklearn.model_selection import GridSearchCV\n",
    "# model = GradientBoostingClassifier()\n",
    "# model.fit(x_data, y_data)\n",
    "# param_test = {\n",
    "\n",
    "#         \"n_estimators\": range(0, 100, 25),\n",
    "\n",
    "#         \"max_depth\": [1, 2, 3, 4],\n",
    "\n",
    "#         \"learning_rate\": [0.01, 0.1],\n",
    "\n",
    "#         \"subsample\": [0.7, 0.8 , 0.9, 1.0],\n",
    "# }\n",
    "# gsearch = GridSearchCV( estimator=model, param_grid=param_test,   scoring=\"roc_auc\", cv=5)\n",
    "# gsearch.fit(x_data, y_data)\n",
    "# print(gsearch.best_params_)\n",
    "# print(gsearch.best_score_)\n"
   ]
  },
  {
   "attachments": {},
   "cell_type": "markdown",
   "metadata": {},
   "source": [
    "- 하이퍼 파라미터를 진행시킨 과정, class 3의 개수가 가장 적어 예측하지 못하는 것을 파악할 수 있고 점점 정확도가 증가하는 것을 확인할 수 있음.\n",
    "- 하이퍼파리미터는 시간이 오래걸려 tpu환경에서 진행했습니다. 아래는 해당 결과를 가져온 사진입니다."
   ]
  },
  {
   "attachments": {},
   "cell_type": "markdown",
   "metadata": {},
   "source": [
    "![nn](images/하이퍼파라미터튜닝.png)"
   ]
  },
  {
   "attachments": {},
   "cell_type": "markdown",
   "metadata": {},
   "source": [
    "하이퍼 파라미터를 통해 추출한 파라미터를 대입하여, 최종모델형성\n",
    "최종모델은 split 하지 않고, 전체학습."
   ]
  },
  {
   "attachments": {},
   "cell_type": "markdown",
   "metadata": {},
   "source": [
    "### 최종 모델"
   ]
  },
  {
   "cell_type": "code",
   "execution_count": 366,
   "metadata": {},
   "outputs": [
    {
     "data": {
      "text/plain": [
       "GradientBoostingClassifier(learning_rate=0.2, max_features='log2',\n",
       "                           min_impurity_decrease=0.005, min_samples_leaf=2,\n",
       "                           min_samples_split=7, n_estimators=210,\n",
       "                           random_state=3969)"
      ]
     },
     "execution_count": 366,
     "metadata": {},
     "output_type": "execute_result"
    }
   ],
   "source": [
    "model = GradientBoostingClassifier(ccp_alpha=0.0, criterion='friedman_mse', init=None,\n",
    "                           learning_rate=0.2, loss='deviance', max_depth=3,\n",
    "                           max_features='log2', max_leaf_nodes=None,\n",
    "                           min_impurity_decrease=0.005, \n",
    "                           min_samples_leaf=2, min_samples_split=7,\n",
    "                           min_weight_fraction_leaf=0.0, n_estimators=210,\n",
    "                           n_iter_no_change=None, \n",
    "                           random_state=3969, subsample=1.0, tol=0.0001,\n",
    "                           validation_fraction=0.1, verbose=0,\n",
    "                           warm_start=False)\n",
    "model.fit(x_data, y_data)"
   ]
  },
  {
   "attachments": {},
   "cell_type": "markdown",
   "metadata": {},
   "source": [
    "## Analysis \n",
    "- 기존의 acc를 통해 모델링의 결과를 분석했으니, Confusion matrix를 통해 재확인. 위의 하이퍼파라미터의 학습경과를 확인하며, 어떤 class를 예측하기 어려운지 파악했습니다.\n",
    "* 하이퍼파라미터 이전 train_test_set으로 분리했던 모델로 진행.(하이퍼파라미터를 통한 최종모델은 모든 데이터셋을 학습시켰기에, 분석불가능)\n",
    "- 모델을 통해 추측한 결과 class가 가장 많았던 1에 대한 acc가 상당히 높은 것을 확인할 수 있고, 반면 class 3과 같은 경우, 3이 아닌 1로 예측하는 경우가 빈번한 것을 확인할 수 있다.\n",
    "- 최종적으로는 class 1의 정확도를 떨어뜨리지 않으면서, 3에 대한 적중도를 키워야한다."
   ]
  },
  {
   "cell_type": "code",
   "execution_count": 367,
   "metadata": {},
   "outputs": [
    {
     "data": {
      "text/plain": [
       "<AxesSubplot:>"
      ]
     },
     "execution_count": 367,
     "metadata": {},
     "output_type": "execute_result"
    },
    {
     "data": {
      "image/png": "[encoded data removed]",
      "text/plain": [
       "<Figure size 800x1000 with 2 Axes>"
      ]
     },
     "metadata": {},
     "output_type": "display_data"
    }
   ],
   "source": [
    "# from sklearn.metrics import confusion_matrix\n",
    "# sns.heatmap(confusion_matrix(y_test,clf.predict(X_test)),annot=True, cmap=\"PiYG\")"
   ]
  },
  {
   "cell_type": "code",
   "execution_count": 368,
   "metadata": {},
   "outputs": [
    {
     "name": "stderr",
     "output_type": "stream",
     "text": [
      "/Users/handongmin/opt/anaconda3/lib/python3.9/site-packages/seaborn/_decorators.py:36: FutureWarning: Pass the following variable as a keyword arg: x. From version 0.12, the only valid positional argument will be `data`, and passing other arguments without an explicit keyword will result in an error or misinterpretation.\n",
      "  warnings.warn(\n"
     ]
    },
    {
     "data": {
      "text/plain": [
       "<AxesSubplot:xlabel='answer', ylabel='count'>"
      ]
     },
     "execution_count": 368,
     "metadata": {},
     "output_type": "execute_result"
    },
    {
     "data": {
      "image/png": "[encoded data removed]",
      "text/plain": [
       "<Figure size 800x1000 with 1 Axes>"
      ]
     },
     "metadata": {},
     "output_type": "display_data"
    }
   ],
   "source": [
    "# sns.countplot(y_test == clf.predict(X_test))"
   ]
  },
  {
   "cell_type": "markdown",
   "metadata": {},
   "source": [
    "# Test data\n",
    "\n",
    "* TA will check your model's test data accuracy\n",
    "* (Important) Do not change the code below"
   ]
  },
  {
   "cell_type": "code",
   "execution_count": 369,
   "metadata": {},
   "outputs": [
    {
     "name": "stderr",
     "output_type": "stream",
     "text": [
      "/Users/handongmin/opt/anaconda3/lib/python3.9/site-packages/pandas/core/arraylike.py:397: RuntimeWarning: invalid value encountered in log1p\n",
      "  result = getattr(ufunc, method)(*inputs, **kwargs)\n"
     ]
    }
   ],
   "source": [
    "filepath = os.sep.join( ['data', 'music_test_data.csv'])\n",
    "t_data = pd.read_csv(filepath)\n",
    "features = t_data.columns\n",
    "X_t_data = t_data[features]\n",
    "X_t_data = transform_test(X_t_data)\n",
    "y_pred = model.predict(X_t_data)\n",
    "np.savetxt('out.txt', y_pred, fmt='%d', delimiter='\\n')"
   ]
  }
 ],
 "metadata": {
  "anaconda-cloud": {},
  "kernelspec": {
   "display_name": "Python 3.9.13 ('base')",
   "language": "python",
   "name": "python3"
  },
  "language_info": {
   "codemirror_mode": {
    "name": "ipython",
    "version": 3
   },
   "file_extension": ".py",
   "mimetype": "text/x-python",
   "name": "python",
   "nbconvert_exporter": "python",
   "pygments_lexer": "ipython3",
   "version": "3.9.13"
  },
  "name": "Linear_Regression_and_K_Nearest_Neighbors_Exercises-ANSWERS",
  "notebookId": 2125319687183902,
  "vscode": {
   "interpreter": {
    "hash": "67010cb9da726e5cf1724e79abdd65860a769b5bc9343a6738436704758efee2"
   }
  }
 },
 "nbformat": 4,
 "nbformat_minor": 1
}
