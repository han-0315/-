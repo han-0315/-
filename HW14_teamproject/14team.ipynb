{
 "cells": [
  {
   "cell_type": "markdown",
   "metadata": {},
   "source": [
    "## 인공지능과제 14\n",
    "Decision tree 필요 단계\n",
    "0. 데이터 전처리\n",
    "    - feature 중 float 가 아닌 데이터에 대해 전처리 진행.\n",
    "    - name -> company 추출, power 등 단위가 있는 feature에 대해, 단위 제거 후 float 로 변환.\n",
    "1. 데이터 분석 후, DT에 맞게 전처리 진행.\n",
    "2. 기본적인 Decision tree 모델링\n",
    "    - 하이퍼파라미터(max_depth 등 )\n",
    "    - GridSearchCV 등을 통해 파라미터 튜닝 진행.\n"
   ]
  },
  {
   "cell_type": "code",
   "execution_count": 208,
   "metadata": {},
   "outputs": [
    {
     "name": "stderr",
     "output_type": "stream",
     "text": [
      "Intel(R) Extension for Scikit-learn* enabled (https://github.com/intel/scikit-learn-intelex)\n"
     ]
    }
   ],
   "source": [
    "from __future__ import print_function\n",
    "import os\n",
    "\n",
    "from io import StringIO\n",
    "from IPython.display import Image, display\n",
    "\n",
    "from sklearn.tree import export_graphviz\n",
    "from sklearn.model_selection import StratifiedShuffleSplit\n",
    "from sklearn.metrics import mean_squared_error\n",
    "from sklearn.tree import DecisionTreeRegressor\n",
    "from sklearn.model_selection import GridSearchCV\n",
    "from sklearn.metrics import accuracy_score, precision_score, recall_score, f1_score\n",
    "from sklearn.tree import DecisionTreeClassifier\n",
    "from sklearn.model_selection import train_test_split\n",
    "\n",
    "from sklearnex import patch_sklearn\n",
    "patch_sklearn()"
   ]
  },
  {
   "cell_type": "code",
   "execution_count": 209,
   "metadata": {},
   "outputs": [],
   "source": [
    "import numpy as np\n",
    "import pandas as pd\n",
    "import matplotlib.pyplot as plt\n",
    "import seaborn as sns"
   ]
  },
  {
   "cell_type": "code",
   "execution_count": 210,
   "metadata": {},
   "outputs": [],
   "source": [
    "import pandas as pd\n",
    "import numpy as np"
   ]
  },
  {
   "cell_type": "code",
   "execution_count": 211,
   "metadata": {},
   "outputs": [],
   "source": [
    "data = pd.read_csv('train.csv')"
   ]
  },
  {
   "cell_type": "code",
   "execution_count": 212,
   "metadata": {},
   "outputs": [
    {
     "data": {
      "text/html": [
       "<div>\n",
       "<style scoped>\n",
       "    .dataframe tbody tr th:only-of-type {\n",
       "        vertical-align: middle;\n",
       "    }\n",
       "\n",
       "    .dataframe tbody tr th {\n",
       "        vertical-align: top;\n",
       "    }\n",
       "\n",
       "    .dataframe thead th {\n",
       "        text-align: right;\n",
       "    }\n",
       "</style>\n",
       "<table border=\"1\" class=\"dataframe\">\n",
       "  <thead>\n",
       "    <tr style=\"text-align: right;\">\n",
       "      <th></th>\n",
       "      <th>Name</th>\n",
       "      <th>Location</th>\n",
       "      <th>Year</th>\n",
       "      <th>Kilometers_Driven</th>\n",
       "      <th>Fuel_Type</th>\n",
       "      <th>Transmission</th>\n",
       "      <th>Owner_Type</th>\n",
       "      <th>Mileage</th>\n",
       "      <th>Engine</th>\n",
       "      <th>Power</th>\n",
       "      <th>Seats</th>\n",
       "      <th>New_Price</th>\n",
       "      <th>Price</th>\n",
       "    </tr>\n",
       "  </thead>\n",
       "  <tbody>\n",
       "    <tr>\n",
       "      <th>0</th>\n",
       "      <td>Maruti Wagon R LXI CNG</td>\n",
       "      <td>Mumbai</td>\n",
       "      <td>2010</td>\n",
       "      <td>72000</td>\n",
       "      <td>CNG</td>\n",
       "      <td>Manual</td>\n",
       "      <td>First</td>\n",
       "      <td>26.6 km/kg</td>\n",
       "      <td>998 CC</td>\n",
       "      <td>58.16 bhp</td>\n",
       "      <td>5.0</td>\n",
       "      <td>NaN</td>\n",
       "      <td>1.75</td>\n",
       "    </tr>\n",
       "    <tr>\n",
       "      <th>1</th>\n",
       "      <td>Hyundai Creta 1.6 CRDi SX Option</td>\n",
       "      <td>Pune</td>\n",
       "      <td>2015</td>\n",
       "      <td>41000</td>\n",
       "      <td>Diesel</td>\n",
       "      <td>Manual</td>\n",
       "      <td>First</td>\n",
       "      <td>19.67 kmpl</td>\n",
       "      <td>1582 CC</td>\n",
       "      <td>126.2 bhp</td>\n",
       "      <td>5.0</td>\n",
       "      <td>NaN</td>\n",
       "      <td>12.50</td>\n",
       "    </tr>\n",
       "    <tr>\n",
       "      <th>2</th>\n",
       "      <td>Honda Jazz V</td>\n",
       "      <td>Chennai</td>\n",
       "      <td>2011</td>\n",
       "      <td>46000</td>\n",
       "      <td>Petrol</td>\n",
       "      <td>Manual</td>\n",
       "      <td>First</td>\n",
       "      <td>18.2 kmpl</td>\n",
       "      <td>1199 CC</td>\n",
       "      <td>88.7 bhp</td>\n",
       "      <td>5.0</td>\n",
       "      <td>8.61 Lakh</td>\n",
       "      <td>4.50</td>\n",
       "    </tr>\n",
       "    <tr>\n",
       "      <th>3</th>\n",
       "      <td>Maruti Ertiga VDI</td>\n",
       "      <td>Chennai</td>\n",
       "      <td>2012</td>\n",
       "      <td>87000</td>\n",
       "      <td>Diesel</td>\n",
       "      <td>Manual</td>\n",
       "      <td>First</td>\n",
       "      <td>20.77 kmpl</td>\n",
       "      <td>1248 CC</td>\n",
       "      <td>88.76 bhp</td>\n",
       "      <td>7.0</td>\n",
       "      <td>NaN</td>\n",
       "      <td>6.00</td>\n",
       "    </tr>\n",
       "    <tr>\n",
       "      <th>4</th>\n",
       "      <td>Audi A4 New 2.0 TDI Multitronic</td>\n",
       "      <td>Coimbatore</td>\n",
       "      <td>2013</td>\n",
       "      <td>40670</td>\n",
       "      <td>Diesel</td>\n",
       "      <td>Automatic</td>\n",
       "      <td>Second</td>\n",
       "      <td>15.2 kmpl</td>\n",
       "      <td>1968 CC</td>\n",
       "      <td>140.8 bhp</td>\n",
       "      <td>5.0</td>\n",
       "      <td>NaN</td>\n",
       "      <td>17.74</td>\n",
       "    </tr>\n",
       "  </tbody>\n",
       "</table>\n",
       "</div>"
      ],
      "text/plain": [
       "                               Name    Location  Year  Kilometers_Driven  \\\n",
       "0            Maruti Wagon R LXI CNG      Mumbai  2010              72000   \n",
       "1  Hyundai Creta 1.6 CRDi SX Option        Pune  2015              41000   \n",
       "2                      Honda Jazz V     Chennai  2011              46000   \n",
       "3                 Maruti Ertiga VDI     Chennai  2012              87000   \n",
       "4   Audi A4 New 2.0 TDI Multitronic  Coimbatore  2013              40670   \n",
       "\n",
       "  Fuel_Type Transmission Owner_Type     Mileage   Engine      Power  Seats  \\\n",
       "0       CNG       Manual      First  26.6 km/kg   998 CC  58.16 bhp    5.0   \n",
       "1    Diesel       Manual      First  19.67 kmpl  1582 CC  126.2 bhp    5.0   \n",
       "2    Petrol       Manual      First   18.2 kmpl  1199 CC   88.7 bhp    5.0   \n",
       "3    Diesel       Manual      First  20.77 kmpl  1248 CC  88.76 bhp    7.0   \n",
       "4    Diesel    Automatic     Second   15.2 kmpl  1968 CC  140.8 bhp    5.0   \n",
       "\n",
       "   New_Price  Price  \n",
       "0        NaN   1.75  \n",
       "1        NaN  12.50  \n",
       "2  8.61 Lakh   4.50  \n",
       "3        NaN   6.00  \n",
       "4        NaN  17.74  "
      ]
     },
     "execution_count": 212,
     "metadata": {},
     "output_type": "execute_result"
    }
   ],
   "source": [
    "data.head()"
   ]
  },
  {
   "cell_type": "code",
   "execution_count": 213,
   "metadata": {},
   "outputs": [
    {
     "name": "stdout",
     "output_type": "stream",
     "text": [
      "Name                  object\n",
      "Location              object\n",
      "Year                   int64\n",
      "Kilometers_Driven      int64\n",
      "Fuel_Type             object\n",
      "Transmission          object\n",
      "Owner_Type            object\n",
      "Mileage               object\n",
      "Engine                object\n",
      "Power                 object\n",
      "Seats                float64\n",
      "New_Price             object\n",
      "Price                float64\n",
      "dtype: object\n"
     ]
    }
   ],
   "source": [
    "print(data.dtypes)"
   ]
  },
  {
   "cell_type": "code",
   "execution_count": 214,
   "metadata": {},
   "outputs": [],
   "source": [
    "train, test = train_test_split(data, test_size=0.3, random_state=42)\n",
    "train_data = train.drop(labels=\"New_Price\", axis = 1)\n",
    "test = test.drop(labels=\"New_Price\", axis = 1)"
   ]
  },
  {
   "cell_type": "code",
   "execution_count": 215,
   "metadata": {},
   "outputs": [
    {
     "data": {
      "text/html": [
       "<div>\n",
       "<style scoped>\n",
       "    .dataframe tbody tr th:only-of-type {\n",
       "        vertical-align: middle;\n",
       "    }\n",
       "\n",
       "    .dataframe tbody tr th {\n",
       "        vertical-align: top;\n",
       "    }\n",
       "\n",
       "    .dataframe thead th {\n",
       "        text-align: right;\n",
       "    }\n",
       "</style>\n",
       "<table border=\"1\" class=\"dataframe\">\n",
       "  <thead>\n",
       "    <tr style=\"text-align: right;\">\n",
       "      <th></th>\n",
       "      <th>Year</th>\n",
       "      <th>Kilometers_Driven</th>\n",
       "      <th>Seats</th>\n",
       "      <th>Price</th>\n",
       "    </tr>\n",
       "  </thead>\n",
       "  <tbody>\n",
       "    <tr>\n",
       "      <th>count</th>\n",
       "      <td>4213.000000</td>\n",
       "      <td>4213.000000</td>\n",
       "      <td>4185.000000</td>\n",
       "      <td>4213.000000</td>\n",
       "    </tr>\n",
       "    <tr>\n",
       "      <th>mean</th>\n",
       "      <td>2013.396392</td>\n",
       "      <td>57529.234987</td>\n",
       "      <td>5.277419</td>\n",
       "      <td>9.466622</td>\n",
       "    </tr>\n",
       "    <tr>\n",
       "      <th>std</th>\n",
       "      <td>3.237586</td>\n",
       "      <td>38099.559922</td>\n",
       "      <td>0.805531</td>\n",
       "      <td>11.229414</td>\n",
       "    </tr>\n",
       "    <tr>\n",
       "      <th>min</th>\n",
       "      <td>1998.000000</td>\n",
       "      <td>600.000000</td>\n",
       "      <td>0.000000</td>\n",
       "      <td>0.440000</td>\n",
       "    </tr>\n",
       "    <tr>\n",
       "      <th>25%</th>\n",
       "      <td>2011.000000</td>\n",
       "      <td>34000.000000</td>\n",
       "      <td>5.000000</td>\n",
       "      <td>3.500000</td>\n",
       "    </tr>\n",
       "    <tr>\n",
       "      <th>50%</th>\n",
       "      <td>2014.000000</td>\n",
       "      <td>52827.000000</td>\n",
       "      <td>5.000000</td>\n",
       "      <td>5.680000</td>\n",
       "    </tr>\n",
       "    <tr>\n",
       "      <th>75%</th>\n",
       "      <td>2016.000000</td>\n",
       "      <td>72100.000000</td>\n",
       "      <td>5.000000</td>\n",
       "      <td>9.900000</td>\n",
       "    </tr>\n",
       "    <tr>\n",
       "      <th>max</th>\n",
       "      <td>2019.000000</td>\n",
       "      <td>775000.000000</td>\n",
       "      <td>10.000000</td>\n",
       "      <td>160.000000</td>\n",
       "    </tr>\n",
       "  </tbody>\n",
       "</table>\n",
       "</div>"
      ],
      "text/plain": [
       "              Year  Kilometers_Driven        Seats        Price\n",
       "count  4213.000000        4213.000000  4185.000000  4213.000000\n",
       "mean   2013.396392       57529.234987     5.277419     9.466622\n",
       "std       3.237586       38099.559922     0.805531    11.229414\n",
       "min    1998.000000         600.000000     0.000000     0.440000\n",
       "25%    2011.000000       34000.000000     5.000000     3.500000\n",
       "50%    2014.000000       52827.000000     5.000000     5.680000\n",
       "75%    2016.000000       72100.000000     5.000000     9.900000\n",
       "max    2019.000000      775000.000000    10.000000   160.000000"
      ]
     },
     "execution_count": 215,
     "metadata": {},
     "output_type": "execute_result"
    }
   ],
   "source": [
    "train_data.describe()"
   ]
  },
  {
   "cell_type": "code",
   "execution_count": 216,
   "metadata": {},
   "outputs": [
    {
     "name": "stdout",
     "output_type": "stream",
     "text": [
      "(4212, 12)\n",
      "(4188, 12)\n",
      "(4188, 12)\n",
      "(4184, 12)\n"
     ]
    }
   ],
   "source": [
    "train_data = train_data[train_data['Mileage'].notna()]\n",
    "print(train_data.shape)\n",
    "train_data = train_data[train_data['Engine'].notna()]\n",
    "print(train_data.shape)\n",
    "train_data = train_data[train_data['Power'].notna()]\n",
    "print(train_data.shape)\n",
    "train_data = train_data[train_data['Seats'].notna()]\n",
    "print(train_data.shape)"
   ]
  },
  {
   "cell_type": "code",
   "execution_count": 217,
   "metadata": {},
   "outputs": [
    {
     "name": "stdout",
     "output_type": "stream",
     "text": [
      "['Jaipur' 'Hyderabad' 'Kochi' 'Kolkata' 'Ahmedabad' 'Mumbai' 'Coimbatore'\n",
      " 'Chennai' 'Bangalore' 'Delhi' 'Pune']\n",
      "['Diesel' 'Petrol' 'CNG' 'LPG']\n",
      "['Manual' 'Automatic']\n",
      "['First' 'Second' 'Third' 'Fourth & Above']\n"
     ]
    }
   ],
   "source": [
    "print(train_data['Location'].unique())\n",
    "print(train_data['Fuel_Type'].unique())\n",
    "print(train_data['Transmission'].unique())\n",
    "print(train_data['Owner_Type'].unique())"
   ]
  },
  {
   "cell_type": "code",
   "execution_count": 218,
   "metadata": {},
   "outputs": [
    {
     "data": {
      "text/plain": [
       "Name                 0\n",
       "Location             0\n",
       "Year                 0\n",
       "Kilometers_Driven    0\n",
       "Fuel_Type            0\n",
       "Transmission         0\n",
       "Owner_Type           0\n",
       "Mileage              0\n",
       "Engine               0\n",
       "Power                0\n",
       "Seats                0\n",
       "Price                0\n",
       "dtype: int64"
      ]
     },
     "execution_count": 218,
     "metadata": {},
     "output_type": "execute_result"
    }
   ],
   "source": [
    "train_data.isnull().sum()"
   ]
  },
  {
   "cell_type": "code",
   "execution_count": 219,
   "metadata": {},
   "outputs": [],
   "source": [
    "train_data = train_data.reset_index(drop=True)"
   ]
  },
  {
   "cell_type": "code",
   "execution_count": 220,
   "metadata": {},
   "outputs": [],
   "source": [
    "for i in range(train_data.shape[0]):\n",
    "    train_data.at[i, 'Company'] = train_data['Name'][i].split()[0]\n",
    "    train_data.at[i, 'Mileage(km/kg)'] = train_data['Mileage'][i].split()[0]\n",
    "    train_data.at[i, 'Engine(CC)'] = train_data['Engine'][i].split()[0]\n",
    "    train_data.at[i, 'Power(bhp)'] = train_data['Power'][i].split()[0]\n"
   ]
  },
  {
   "cell_type": "code",
   "execution_count": 221,
   "metadata": {},
   "outputs": [
    {
     "name": "stdout",
     "output_type": "stream",
     "text": [
      "Y\n",
      "66\n",
      "[167, 201, 337, 376, 392, 448, 505, 554, 591, 600, 641, 692, 710, 752, 823, 879, 917, 920, 935, 1069, 1120, 1208, 1283, 1288, 1351, 1454, 1546, 1738, 1821, 1835, 1837, 1938, 2087, 2089, 2133, 2140, 2219, 2249, 2257, 2271, 2315, 2425, 2509, 2551, 2648, 2704, 2713, 2826, 2845, 2979, 3046, 3103, 3141, 3151, 3158, 3189, 3203, 3208, 3354, 3570, 3605, 3924, 3933, 4004, 4064, 4067]\n"
     ]
    }
   ],
   "source": [
    "x = 'n'\n",
    "count = 0\n",
    "position = []\n",
    "for i in range(train_data.shape[0]):\n",
    "    if train_data['Power(bhp)'][i]=='null':\n",
    "        x = 'Y'\n",
    "        count = count + 1\n",
    "        position.append(i)\n",
    "print(x)\n",
    "print(count)\n",
    "print(position)"
   ]
  },
  {
   "cell_type": "code",
   "execution_count": 222,
   "metadata": {},
   "outputs": [],
   "source": [
    "train_data = train_data.drop(train_data.index[position])\n",
    "train_data = train_data.reset_index(drop=True)"
   ]
  },
  {
   "cell_type": "code",
   "execution_count": 223,
   "metadata": {},
   "outputs": [],
   "source": [
    "train_data['Mileage(km/kg)'] = train_data['Mileage(km/kg)'].astype(float)\n",
    "train_data['Engine(CC)'] = train_data['Engine(CC)'].astype(float)\n",
    "train_data['Power(bhp)'] = train_data['Power(bhp)'].astype(float)\n",
    "train_data['Year'] = train_data['Year'].astype(float)\n",
    "train_data['Kilometers_Driven'] = train_data['Kilometers_Driven'].astype(float)\n"
   ]
  },
  {
   "cell_type": "code",
   "execution_count": 224,
   "metadata": {},
   "outputs": [
    {
     "data": {
      "text/html": [
       "<div>\n",
       "<style scoped>\n",
       "    .dataframe tbody tr th:only-of-type {\n",
       "        vertical-align: middle;\n",
       "    }\n",
       "\n",
       "    .dataframe tbody tr th {\n",
       "        vertical-align: top;\n",
       "    }\n",
       "\n",
       "    .dataframe thead th {\n",
       "        text-align: right;\n",
       "    }\n",
       "</style>\n",
       "<table border=\"1\" class=\"dataframe\">\n",
       "  <thead>\n",
       "    <tr style=\"text-align: right;\">\n",
       "      <th></th>\n",
       "      <th>Name</th>\n",
       "      <th>Location</th>\n",
       "      <th>Year</th>\n",
       "      <th>Kilometers_Driven</th>\n",
       "      <th>Fuel_Type</th>\n",
       "      <th>Transmission</th>\n",
       "      <th>Owner_Type</th>\n",
       "      <th>Mileage</th>\n",
       "      <th>Engine</th>\n",
       "      <th>Power</th>\n",
       "      <th>Seats</th>\n",
       "      <th>Price</th>\n",
       "      <th>Company</th>\n",
       "      <th>Mileage(km/kg)</th>\n",
       "      <th>Engine(CC)</th>\n",
       "      <th>Power(bhp)</th>\n",
       "    </tr>\n",
       "  </thead>\n",
       "  <tbody>\n",
       "    <tr>\n",
       "      <th>0</th>\n",
       "      <td>Volkswagen Polo Diesel Trendline 1.2L</td>\n",
       "      <td>Jaipur</td>\n",
       "      <td>2011.0</td>\n",
       "      <td>77000.0</td>\n",
       "      <td>Diesel</td>\n",
       "      <td>Manual</td>\n",
       "      <td>First</td>\n",
       "      <td>22.07 kmpl</td>\n",
       "      <td>1199 CC</td>\n",
       "      <td>73.9 bhp</td>\n",
       "      <td>5.0</td>\n",
       "      <td>2.90</td>\n",
       "      <td>Volkswagen</td>\n",
       "      <td>22.07</td>\n",
       "      <td>1199.0</td>\n",
       "      <td>73.9</td>\n",
       "    </tr>\n",
       "    <tr>\n",
       "      <th>1</th>\n",
       "      <td>Hyundai i10 Sportz</td>\n",
       "      <td>Hyderabad</td>\n",
       "      <td>2016.0</td>\n",
       "      <td>19947.0</td>\n",
       "      <td>Petrol</td>\n",
       "      <td>Manual</td>\n",
       "      <td>First</td>\n",
       "      <td>20.36 kmpl</td>\n",
       "      <td>1197 CC</td>\n",
       "      <td>78.9 bhp</td>\n",
       "      <td>5.0</td>\n",
       "      <td>4.50</td>\n",
       "      <td>Hyundai</td>\n",
       "      <td>20.36</td>\n",
       "      <td>1197.0</td>\n",
       "      <td>78.9</td>\n",
       "    </tr>\n",
       "    <tr>\n",
       "      <th>2</th>\n",
       "      <td>Mahindra XUV500 W8 2WD</td>\n",
       "      <td>Kochi</td>\n",
       "      <td>2014.0</td>\n",
       "      <td>70963.0</td>\n",
       "      <td>Diesel</td>\n",
       "      <td>Manual</td>\n",
       "      <td>First</td>\n",
       "      <td>15.1 kmpl</td>\n",
       "      <td>2179 CC</td>\n",
       "      <td>140 bhp</td>\n",
       "      <td>7.0</td>\n",
       "      <td>7.83</td>\n",
       "      <td>Mahindra</td>\n",
       "      <td>15.10</td>\n",
       "      <td>2179.0</td>\n",
       "      <td>140.0</td>\n",
       "    </tr>\n",
       "    <tr>\n",
       "      <th>3</th>\n",
       "      <td>Maruti Swift VDI BSIV</td>\n",
       "      <td>Kolkata</td>\n",
       "      <td>2013.0</td>\n",
       "      <td>115195.0</td>\n",
       "      <td>Diesel</td>\n",
       "      <td>Manual</td>\n",
       "      <td>First</td>\n",
       "      <td>25.2 kmpl</td>\n",
       "      <td>1248 CC</td>\n",
       "      <td>74 bhp</td>\n",
       "      <td>5.0</td>\n",
       "      <td>3.85</td>\n",
       "      <td>Maruti</td>\n",
       "      <td>25.20</td>\n",
       "      <td>1248.0</td>\n",
       "      <td>74.0</td>\n",
       "    </tr>\n",
       "    <tr>\n",
       "      <th>4</th>\n",
       "      <td>Volkswagen Polo Petrol Trendline 1.2L</td>\n",
       "      <td>Kochi</td>\n",
       "      <td>2011.0</td>\n",
       "      <td>58752.0</td>\n",
       "      <td>Petrol</td>\n",
       "      <td>Manual</td>\n",
       "      <td>First</td>\n",
       "      <td>16.47 kmpl</td>\n",
       "      <td>1198 CC</td>\n",
       "      <td>73.9 bhp</td>\n",
       "      <td>5.0</td>\n",
       "      <td>3.32</td>\n",
       "      <td>Volkswagen</td>\n",
       "      <td>16.47</td>\n",
       "      <td>1198.0</td>\n",
       "      <td>73.9</td>\n",
       "    </tr>\n",
       "  </tbody>\n",
       "</table>\n",
       "</div>"
      ],
      "text/plain": [
       "                                    Name   Location    Year  \\\n",
       "0  Volkswagen Polo Diesel Trendline 1.2L     Jaipur  2011.0   \n",
       "1                     Hyundai i10 Sportz  Hyderabad  2016.0   \n",
       "2                 Mahindra XUV500 W8 2WD      Kochi  2014.0   \n",
       "3                  Maruti Swift VDI BSIV    Kolkata  2013.0   \n",
       "4  Volkswagen Polo Petrol Trendline 1.2L      Kochi  2011.0   \n",
       "\n",
       "   Kilometers_Driven Fuel_Type Transmission Owner_Type     Mileage   Engine  \\\n",
       "0            77000.0    Diesel       Manual      First  22.07 kmpl  1199 CC   \n",
       "1            19947.0    Petrol       Manual      First  20.36 kmpl  1197 CC   \n",
       "2            70963.0    Diesel       Manual      First   15.1 kmpl  2179 CC   \n",
       "3           115195.0    Diesel       Manual      First   25.2 kmpl  1248 CC   \n",
       "4            58752.0    Petrol       Manual      First  16.47 kmpl  1198 CC   \n",
       "\n",
       "      Power  Seats  Price     Company  Mileage(km/kg)  Engine(CC)  Power(bhp)  \n",
       "0  73.9 bhp    5.0   2.90  Volkswagen           22.07      1199.0        73.9  \n",
       "1  78.9 bhp    5.0   4.50     Hyundai           20.36      1197.0        78.9  \n",
       "2   140 bhp    7.0   7.83    Mahindra           15.10      2179.0       140.0  \n",
       "3    74 bhp    5.0   3.85      Maruti           25.20      1248.0        74.0  \n",
       "4  73.9 bhp    5.0   3.32  Volkswagen           16.47      1198.0        73.9  "
      ]
     },
     "execution_count": 224,
     "metadata": {},
     "output_type": "execute_result"
    }
   ],
   "source": [
    "train_data.head()"
   ]
  },
  {
   "cell_type": "code",
   "execution_count": 225,
   "metadata": {},
   "outputs": [
    {
     "data": {
      "text/plain": [
       "(4118, 16)"
      ]
     },
     "execution_count": 225,
     "metadata": {},
     "output_type": "execute_result"
    }
   ],
   "source": [
    "train_data.shape"
   ]
  },
  {
   "cell_type": "code",
   "execution_count": 226,
   "metadata": {},
   "outputs": [
    {
     "data": {
      "text/html": [
       "<div>\n",
       "<style scoped>\n",
       "    .dataframe tbody tr th:only-of-type {\n",
       "        vertical-align: middle;\n",
       "    }\n",
       "\n",
       "    .dataframe tbody tr th {\n",
       "        vertical-align: top;\n",
       "    }\n",
       "\n",
       "    .dataframe thead th {\n",
       "        text-align: right;\n",
       "    }\n",
       "</style>\n",
       "<table border=\"1\" class=\"dataframe\">\n",
       "  <thead>\n",
       "    <tr style=\"text-align: right;\">\n",
       "      <th></th>\n",
       "      <th>Name</th>\n",
       "      <th>Location</th>\n",
       "      <th>Year</th>\n",
       "      <th>Kilometers_Driven</th>\n",
       "      <th>Fuel_Type</th>\n",
       "      <th>Transmission</th>\n",
       "      <th>Owner_Type</th>\n",
       "      <th>Mileage</th>\n",
       "      <th>Engine</th>\n",
       "      <th>Power</th>\n",
       "      <th>Seats</th>\n",
       "      <th>Price</th>\n",
       "      <th>Company</th>\n",
       "      <th>Mileage(km/kg)</th>\n",
       "      <th>Engine(CC)</th>\n",
       "      <th>Power(bhp)</th>\n",
       "    </tr>\n",
       "  </thead>\n",
       "  <tbody>\n",
       "    <tr>\n",
       "      <th>0</th>\n",
       "      <td>Volkswagen Polo Diesel Trendline 1.2L</td>\n",
       "      <td>Jaipur</td>\n",
       "      <td>2011.0</td>\n",
       "      <td>77000.0</td>\n",
       "      <td>Diesel</td>\n",
       "      <td>Manual</td>\n",
       "      <td>First</td>\n",
       "      <td>22.07 kmpl</td>\n",
       "      <td>1199 CC</td>\n",
       "      <td>73.9 bhp</td>\n",
       "      <td>5.0</td>\n",
       "      <td>2.90</td>\n",
       "      <td>Volkswagen</td>\n",
       "      <td>22.07</td>\n",
       "      <td>1199.0</td>\n",
       "      <td>73.9</td>\n",
       "    </tr>\n",
       "    <tr>\n",
       "      <th>1</th>\n",
       "      <td>Hyundai i10 Sportz</td>\n",
       "      <td>Hyderabad</td>\n",
       "      <td>2016.0</td>\n",
       "      <td>19947.0</td>\n",
       "      <td>Petrol</td>\n",
       "      <td>Manual</td>\n",
       "      <td>First</td>\n",
       "      <td>20.36 kmpl</td>\n",
       "      <td>1197 CC</td>\n",
       "      <td>78.9 bhp</td>\n",
       "      <td>5.0</td>\n",
       "      <td>4.50</td>\n",
       "      <td>Hyundai</td>\n",
       "      <td>20.36</td>\n",
       "      <td>1197.0</td>\n",
       "      <td>78.9</td>\n",
       "    </tr>\n",
       "    <tr>\n",
       "      <th>2</th>\n",
       "      <td>Mahindra XUV500 W8 2WD</td>\n",
       "      <td>Kochi</td>\n",
       "      <td>2014.0</td>\n",
       "      <td>70963.0</td>\n",
       "      <td>Diesel</td>\n",
       "      <td>Manual</td>\n",
       "      <td>First</td>\n",
       "      <td>15.1 kmpl</td>\n",
       "      <td>2179 CC</td>\n",
       "      <td>140 bhp</td>\n",
       "      <td>7.0</td>\n",
       "      <td>7.83</td>\n",
       "      <td>Mahindra</td>\n",
       "      <td>15.10</td>\n",
       "      <td>2179.0</td>\n",
       "      <td>140.0</td>\n",
       "    </tr>\n",
       "    <tr>\n",
       "      <th>3</th>\n",
       "      <td>Maruti Swift VDI BSIV</td>\n",
       "      <td>Kolkata</td>\n",
       "      <td>2013.0</td>\n",
       "      <td>115195.0</td>\n",
       "      <td>Diesel</td>\n",
       "      <td>Manual</td>\n",
       "      <td>First</td>\n",
       "      <td>25.2 kmpl</td>\n",
       "      <td>1248 CC</td>\n",
       "      <td>74 bhp</td>\n",
       "      <td>5.0</td>\n",
       "      <td>3.85</td>\n",
       "      <td>Maruti</td>\n",
       "      <td>25.20</td>\n",
       "      <td>1248.0</td>\n",
       "      <td>74.0</td>\n",
       "    </tr>\n",
       "    <tr>\n",
       "      <th>4</th>\n",
       "      <td>Volkswagen Polo Petrol Trendline 1.2L</td>\n",
       "      <td>Kochi</td>\n",
       "      <td>2011.0</td>\n",
       "      <td>58752.0</td>\n",
       "      <td>Petrol</td>\n",
       "      <td>Manual</td>\n",
       "      <td>First</td>\n",
       "      <td>16.47 kmpl</td>\n",
       "      <td>1198 CC</td>\n",
       "      <td>73.9 bhp</td>\n",
       "      <td>5.0</td>\n",
       "      <td>3.32</td>\n",
       "      <td>Volkswagen</td>\n",
       "      <td>16.47</td>\n",
       "      <td>1198.0</td>\n",
       "      <td>73.9</td>\n",
       "    </tr>\n",
       "  </tbody>\n",
       "</table>\n",
       "</div>"
      ],
      "text/plain": [
       "                                    Name   Location    Year  \\\n",
       "0  Volkswagen Polo Diesel Trendline 1.2L     Jaipur  2011.0   \n",
       "1                     Hyundai i10 Sportz  Hyderabad  2016.0   \n",
       "2                 Mahindra XUV500 W8 2WD      Kochi  2014.0   \n",
       "3                  Maruti Swift VDI BSIV    Kolkata  2013.0   \n",
       "4  Volkswagen Polo Petrol Trendline 1.2L      Kochi  2011.0   \n",
       "\n",
       "   Kilometers_Driven Fuel_Type Transmission Owner_Type     Mileage   Engine  \\\n",
       "0            77000.0    Diesel       Manual      First  22.07 kmpl  1199 CC   \n",
       "1            19947.0    Petrol       Manual      First  20.36 kmpl  1197 CC   \n",
       "2            70963.0    Diesel       Manual      First   15.1 kmpl  2179 CC   \n",
       "3           115195.0    Diesel       Manual      First   25.2 kmpl  1248 CC   \n",
       "4            58752.0    Petrol       Manual      First  16.47 kmpl  1198 CC   \n",
       "\n",
       "      Power  Seats  Price     Company  Mileage(km/kg)  Engine(CC)  Power(bhp)  \n",
       "0  73.9 bhp    5.0   2.90  Volkswagen           22.07      1199.0        73.9  \n",
       "1  78.9 bhp    5.0   4.50     Hyundai           20.36      1197.0        78.9  \n",
       "2   140 bhp    7.0   7.83    Mahindra           15.10      2179.0       140.0  \n",
       "3    74 bhp    5.0   3.85      Maruti           25.20      1248.0        74.0  \n",
       "4  73.9 bhp    5.0   3.32  Volkswagen           16.47      1198.0        73.9  "
      ]
     },
     "execution_count": 226,
     "metadata": {},
     "output_type": "execute_result"
    }
   ],
   "source": [
    "train_data.head()"
   ]
  },
  {
   "cell_type": "code",
   "execution_count": 227,
   "metadata": {},
   "outputs": [],
   "source": [
    "train_data.drop([\"Name\"],axis=1,inplace=True)\n",
    "train_data.drop([\"Mileage\"],axis=1,inplace=True)\n",
    "train_data.drop([\"Engine\"],axis=1,inplace=True)\n",
    "train_data.drop([\"Power\"],axis=1,inplace=True)\n",
    "train_data.drop([\"Location\"],axis=1,inplace=True)\n",
    "train_data.drop([\"Fuel_Type\"],axis=1,inplace=True)\n",
    "train_data.drop([\"Transmission\"],axis=1,inplace=True)\n",
    "train_data.drop([\"Owner_Type\"],axis=1,inplace=True)\n",
    "train_data.drop([\"Company\"],axis=1,inplace=True)\n",
    "train_data[\"Price\"] = train_data[\"Price\"].astype(int)\n",
    "\n",
    "\n",
    "\n"
   ]
  },
  {
   "cell_type": "code",
   "execution_count": 228,
   "metadata": {},
   "outputs": [
    {
     "data": {
      "text/html": [
       "<div>\n",
       "<style scoped>\n",
       "    .dataframe tbody tr th:only-of-type {\n",
       "        vertical-align: middle;\n",
       "    }\n",
       "\n",
       "    .dataframe tbody tr th {\n",
       "        vertical-align: top;\n",
       "    }\n",
       "\n",
       "    .dataframe thead th {\n",
       "        text-align: right;\n",
       "    }\n",
       "</style>\n",
       "<table border=\"1\" class=\"dataframe\">\n",
       "  <thead>\n",
       "    <tr style=\"text-align: right;\">\n",
       "      <th></th>\n",
       "      <th>Year</th>\n",
       "      <th>Kilometers_Driven</th>\n",
       "      <th>Seats</th>\n",
       "      <th>Price</th>\n",
       "      <th>Mileage(km/kg)</th>\n",
       "      <th>Engine(CC)</th>\n",
       "      <th>Power(bhp)</th>\n",
       "    </tr>\n",
       "  </thead>\n",
       "  <tbody>\n",
       "    <tr>\n",
       "      <th>0</th>\n",
       "      <td>2011.0</td>\n",
       "      <td>77000.0</td>\n",
       "      <td>5.0</td>\n",
       "      <td>2</td>\n",
       "      <td>22.07</td>\n",
       "      <td>1199.0</td>\n",
       "      <td>73.9</td>\n",
       "    </tr>\n",
       "    <tr>\n",
       "      <th>1</th>\n",
       "      <td>2016.0</td>\n",
       "      <td>19947.0</td>\n",
       "      <td>5.0</td>\n",
       "      <td>4</td>\n",
       "      <td>20.36</td>\n",
       "      <td>1197.0</td>\n",
       "      <td>78.9</td>\n",
       "    </tr>\n",
       "    <tr>\n",
       "      <th>2</th>\n",
       "      <td>2014.0</td>\n",
       "      <td>70963.0</td>\n",
       "      <td>7.0</td>\n",
       "      <td>7</td>\n",
       "      <td>15.10</td>\n",
       "      <td>2179.0</td>\n",
       "      <td>140.0</td>\n",
       "    </tr>\n",
       "    <tr>\n",
       "      <th>3</th>\n",
       "      <td>2013.0</td>\n",
       "      <td>115195.0</td>\n",
       "      <td>5.0</td>\n",
       "      <td>3</td>\n",
       "      <td>25.20</td>\n",
       "      <td>1248.0</td>\n",
       "      <td>74.0</td>\n",
       "    </tr>\n",
       "    <tr>\n",
       "      <th>4</th>\n",
       "      <td>2011.0</td>\n",
       "      <td>58752.0</td>\n",
       "      <td>5.0</td>\n",
       "      <td>3</td>\n",
       "      <td>16.47</td>\n",
       "      <td>1198.0</td>\n",
       "      <td>73.9</td>\n",
       "    </tr>\n",
       "  </tbody>\n",
       "</table>\n",
       "</div>"
      ],
      "text/plain": [
       "     Year  Kilometers_Driven  Seats  Price  Mileage(km/kg)  Engine(CC)  \\\n",
       "0  2011.0            77000.0    5.0      2           22.07      1199.0   \n",
       "1  2016.0            19947.0    5.0      4           20.36      1197.0   \n",
       "2  2014.0            70963.0    7.0      7           15.10      2179.0   \n",
       "3  2013.0           115195.0    5.0      3           25.20      1248.0   \n",
       "4  2011.0            58752.0    5.0      3           16.47      1198.0   \n",
       "\n",
       "   Power(bhp)  \n",
       "0        73.9  \n",
       "1        78.9  \n",
       "2       140.0  \n",
       "3        74.0  \n",
       "4        73.9  "
      ]
     },
     "execution_count": 228,
     "metadata": {},
     "output_type": "execute_result"
    }
   ],
   "source": [
    "train_data.head()"
   ]
  },
  {
   "cell_type": "code",
   "execution_count": 229,
   "metadata": {},
   "outputs": [],
   "source": [
    "train, test = train_test_split(train_data, random_state=42, test_size=0.3)\n"
   ]
  },
  {
   "cell_type": "code",
   "execution_count": 230,
   "metadata": {},
   "outputs": [],
   "source": [
    "y_train = train.Price\n",
    "train_x = train.drop(labels=\"Price\", axis = 1)\n",
    "y_test = test.Price\n",
    "test_x = test.drop(labels=\"Price\", axis = 1)"
   ]
  },
  {
   "cell_type": "code",
   "execution_count": 231,
   "metadata": {},
   "outputs": [
    {
     "data": {
      "text/html": [
       "<div>\n",
       "<style scoped>\n",
       "    .dataframe tbody tr th:only-of-type {\n",
       "        vertical-align: middle;\n",
       "    }\n",
       "\n",
       "    .dataframe tbody tr th {\n",
       "        vertical-align: top;\n",
       "    }\n",
       "\n",
       "    .dataframe thead th {\n",
       "        text-align: right;\n",
       "    }\n",
       "</style>\n",
       "<table border=\"1\" class=\"dataframe\">\n",
       "  <thead>\n",
       "    <tr style=\"text-align: right;\">\n",
       "      <th></th>\n",
       "      <th>Year</th>\n",
       "      <th>Kilometers_Driven</th>\n",
       "      <th>Seats</th>\n",
       "      <th>Mileage(km/kg)</th>\n",
       "      <th>Engine(CC)</th>\n",
       "      <th>Power(bhp)</th>\n",
       "    </tr>\n",
       "  </thead>\n",
       "  <tbody>\n",
       "    <tr>\n",
       "      <th>1588</th>\n",
       "      <td>2010.0</td>\n",
       "      <td>59196.0</td>\n",
       "      <td>5.0</td>\n",
       "      <td>15.60</td>\n",
       "      <td>1196.0</td>\n",
       "      <td>70.0</td>\n",
       "    </tr>\n",
       "    <tr>\n",
       "      <th>997</th>\n",
       "      <td>2014.0</td>\n",
       "      <td>97000.0</td>\n",
       "      <td>7.0</td>\n",
       "      <td>12.55</td>\n",
       "      <td>2982.0</td>\n",
       "      <td>169.0</td>\n",
       "    </tr>\n",
       "    <tr>\n",
       "      <th>3127</th>\n",
       "      <td>2016.0</td>\n",
       "      <td>46936.0</td>\n",
       "      <td>5.0</td>\n",
       "      <td>13.00</td>\n",
       "      <td>2143.0</td>\n",
       "      <td>204.0</td>\n",
       "    </tr>\n",
       "    <tr>\n",
       "      <th>1952</th>\n",
       "      <td>2016.0</td>\n",
       "      <td>26981.0</td>\n",
       "      <td>5.0</td>\n",
       "      <td>16.47</td>\n",
       "      <td>1198.0</td>\n",
       "      <td>73.9</td>\n",
       "    </tr>\n",
       "    <tr>\n",
       "      <th>1132</th>\n",
       "      <td>2013.0</td>\n",
       "      <td>38000.0</td>\n",
       "      <td>5.0</td>\n",
       "      <td>16.47</td>\n",
       "      <td>1198.0</td>\n",
       "      <td>73.9</td>\n",
       "    </tr>\n",
       "  </tbody>\n",
       "</table>\n",
       "</div>"
      ],
      "text/plain": [
       "        Year  Kilometers_Driven  Seats  Mileage(km/kg)  Engine(CC)  Power(bhp)\n",
       "1588  2010.0            59196.0    5.0           15.60      1196.0        70.0\n",
       "997   2014.0            97000.0    7.0           12.55      2982.0       169.0\n",
       "3127  2016.0            46936.0    5.0           13.00      2143.0       204.0\n",
       "1952  2016.0            26981.0    5.0           16.47      1198.0        73.9\n",
       "1132  2013.0            38000.0    5.0           16.47      1198.0        73.9"
      ]
     },
     "execution_count": 231,
     "metadata": {},
     "output_type": "execute_result"
    }
   ],
   "source": [
    "train_x.head()"
   ]
  },
  {
   "cell_type": "code",
   "execution_count": 232,
   "metadata": {},
   "outputs": [
    {
     "data": {
      "text/plain": [
       "1588     2\n",
       "997     17\n",
       "3127    29\n",
       "1952     6\n",
       "1132     2\n",
       "Name: Price, dtype: int64"
      ]
     },
     "execution_count": 232,
     "metadata": {},
     "output_type": "execute_result"
    }
   ],
   "source": [
    "y_train.head()"
   ]
  },
  {
   "cell_type": "code",
   "execution_count": 233,
   "metadata": {},
   "outputs": [
    {
     "data": {
      "text/plain": [
       "Year                 float64\n",
       "Kilometers_Driven    float64\n",
       "Seats                float64\n",
       "Mileage(km/kg)       float64\n",
       "Engine(CC)           float64\n",
       "Power(bhp)           float64\n",
       "dtype: object"
      ]
     },
     "execution_count": 233,
     "metadata": {},
     "output_type": "execute_result"
    }
   ],
   "source": [
    "train_x.shape\n",
    "train_x.dtypes"
   ]
  },
  {
   "cell_type": "code",
   "execution_count": 234,
   "metadata": {},
   "outputs": [],
   "source": [
    "dt = DecisionTreeClassifier(random_state=42)\n",
    "dt = dt.fit(train_x, y_train)"
   ]
  },
  {
   "cell_type": "code",
   "execution_count": 235,
   "metadata": {},
   "outputs": [],
   "source": [
    "from sklearn.metrics import mean_squared_error"
   ]
  },
  {
   "cell_type": "code",
   "execution_count": 236,
   "metadata": {},
   "outputs": [
    {
     "data": {
      "text/plain": [
       "33.80582524271845"
      ]
     },
     "execution_count": 236,
     "metadata": {},
     "output_type": "execute_result"
    }
   ],
   "source": [
    "mean_squared_error(y_test,dt.predict(test_x))"
   ]
  }
 ],
 "metadata": {
  "kernelspec": {
   "display_name": "Python 3.9.13 ('base')",
   "language": "python",
   "name": "python3"
  },
  "language_info": {
   "codemirror_mode": {
    "name": "ipython",
    "version": 3
   },
   "file_extension": ".py",
   "mimetype": "text/x-python",
   "name": "python",
   "nbconvert_exporter": "python",
   "pygments_lexer": "ipython3",
   "version": "3.9.13"
  },
  "orig_nbformat": 4,
  "vscode": {
   "interpreter": {
    "hash": "67010cb9da726e5cf1724e79abdd65860a769b5bc9343a6738436704758efee2"
   }
  }
 },
 "nbformat": 4,
 "nbformat_minor": 2
}
